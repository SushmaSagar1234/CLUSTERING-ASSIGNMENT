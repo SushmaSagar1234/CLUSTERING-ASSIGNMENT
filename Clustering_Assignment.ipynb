{
  "cells": [
    {
      "cell_type": "code",
      "execution_count": null,
      "id": "9d8c65be",
      "metadata": {
        "id": "9d8c65be"
      },
      "outputs": [],
      "source": [
        "#import the libraries\n",
        "import numpy as np\n",
        "import matplotlib.pyplot as plt\n",
        "import pandas as pd\n"
      ]
    },
    {
      "cell_type": "code",
      "execution_count": null,
      "id": "d8d52db0",
      "metadata": {
        "id": "d8d52db0"
      },
      "outputs": [],
      "source": [
        "dataset=pd.read_excel(r'E:\\excelR\\DATA SCIENCE\\ASSIGNMENTS\\Clustering\\EastWestAirlines.xlsx', sheet_name= 'Data')"
      ]
    },
    {
      "cell_type": "code",
      "execution_count": null,
      "id": "d4a3c589",
      "metadata": {
        "id": "d4a3c589",
        "outputId": "3dfc8120-a79b-4ab5-b5ca-d0cfc94664d6"
      },
      "outputs": [
        {
          "data": {
            "text/html": [
              "<div>\n",
              "<style scoped>\n",
              "    .dataframe tbody tr th:only-of-type {\n",
              "        vertical-align: middle;\n",
              "    }\n",
              "\n",
              "    .dataframe tbody tr th {\n",
              "        vertical-align: top;\n",
              "    }\n",
              "\n",
              "    .dataframe thead th {\n",
              "        text-align: right;\n",
              "    }\n",
              "</style>\n",
              "<table border=\"1\" class=\"dataframe\">\n",
              "  <thead>\n",
              "    <tr style=\"text-align: right;\">\n",
              "      <th></th>\n",
              "      <th>ID#</th>\n",
              "      <th>Balance</th>\n",
              "      <th>Qual_miles</th>\n",
              "      <th>cc1_miles</th>\n",
              "      <th>cc2_miles</th>\n",
              "      <th>cc3_miles</th>\n",
              "      <th>Bonus_miles</th>\n",
              "      <th>Bonus_trans</th>\n",
              "      <th>Flight_miles_12mo</th>\n",
              "      <th>Flight_trans_12</th>\n",
              "      <th>Days_since_enroll</th>\n",
              "      <th>Award?</th>\n",
              "    </tr>\n",
              "  </thead>\n",
              "  <tbody>\n",
              "    <tr>\n",
              "      <th>0</th>\n",
              "      <td>1</td>\n",
              "      <td>28143</td>\n",
              "      <td>0</td>\n",
              "      <td>1</td>\n",
              "      <td>1</td>\n",
              "      <td>1</td>\n",
              "      <td>174</td>\n",
              "      <td>1</td>\n",
              "      <td>0</td>\n",
              "      <td>0</td>\n",
              "      <td>7000</td>\n",
              "      <td>0</td>\n",
              "    </tr>\n",
              "    <tr>\n",
              "      <th>1</th>\n",
              "      <td>2</td>\n",
              "      <td>19244</td>\n",
              "      <td>0</td>\n",
              "      <td>1</td>\n",
              "      <td>1</td>\n",
              "      <td>1</td>\n",
              "      <td>215</td>\n",
              "      <td>2</td>\n",
              "      <td>0</td>\n",
              "      <td>0</td>\n",
              "      <td>6968</td>\n",
              "      <td>0</td>\n",
              "    </tr>\n",
              "    <tr>\n",
              "      <th>2</th>\n",
              "      <td>3</td>\n",
              "      <td>41354</td>\n",
              "      <td>0</td>\n",
              "      <td>1</td>\n",
              "      <td>1</td>\n",
              "      <td>1</td>\n",
              "      <td>4123</td>\n",
              "      <td>4</td>\n",
              "      <td>0</td>\n",
              "      <td>0</td>\n",
              "      <td>7034</td>\n",
              "      <td>0</td>\n",
              "    </tr>\n",
              "    <tr>\n",
              "      <th>3</th>\n",
              "      <td>4</td>\n",
              "      <td>14776</td>\n",
              "      <td>0</td>\n",
              "      <td>1</td>\n",
              "      <td>1</td>\n",
              "      <td>1</td>\n",
              "      <td>500</td>\n",
              "      <td>1</td>\n",
              "      <td>0</td>\n",
              "      <td>0</td>\n",
              "      <td>6952</td>\n",
              "      <td>0</td>\n",
              "    </tr>\n",
              "    <tr>\n",
              "      <th>4</th>\n",
              "      <td>5</td>\n",
              "      <td>97752</td>\n",
              "      <td>0</td>\n",
              "      <td>4</td>\n",
              "      <td>1</td>\n",
              "      <td>1</td>\n",
              "      <td>43300</td>\n",
              "      <td>26</td>\n",
              "      <td>2077</td>\n",
              "      <td>4</td>\n",
              "      <td>6935</td>\n",
              "      <td>1</td>\n",
              "    </tr>\n",
              "  </tbody>\n",
              "</table>\n",
              "</div>"
            ],
            "text/plain": [
              "   ID#  Balance  Qual_miles  cc1_miles  cc2_miles  cc3_miles  Bonus_miles  \\\n",
              "0    1    28143           0          1          1          1          174   \n",
              "1    2    19244           0          1          1          1          215   \n",
              "2    3    41354           0          1          1          1         4123   \n",
              "3    4    14776           0          1          1          1          500   \n",
              "4    5    97752           0          4          1          1        43300   \n",
              "\n",
              "   Bonus_trans  Flight_miles_12mo  Flight_trans_12  Days_since_enroll  Award?  \n",
              "0            1                  0                0               7000       0  \n",
              "1            2                  0                0               6968       0  \n",
              "2            4                  0                0               7034       0  \n",
              "3            1                  0                0               6952       0  \n",
              "4           26               2077                4               6935       1  "
            ]
          },
          "execution_count": 141,
          "metadata": {},
          "output_type": "execute_result"
        }
      ],
      "source": [
        "dataset.head()"
      ]
    },
    {
      "cell_type": "code",
      "execution_count": null,
      "id": "ceca8e68",
      "metadata": {
        "id": "ceca8e68",
        "outputId": "6d2ab374-c0f8-4a85-f807-54d07ba27860"
      },
      "outputs": [
        {
          "name": "stdout",
          "output_type": "stream",
          "text": [
            "<class 'pandas.core.frame.DataFrame'>\n",
            "RangeIndex: 3999 entries, 0 to 3998\n",
            "Data columns (total 12 columns):\n",
            " #   Column             Non-Null Count  Dtype\n",
            "---  ------             --------------  -----\n",
            " 0   ID#                3999 non-null   int64\n",
            " 1   Balance            3999 non-null   int64\n",
            " 2   Qual_miles         3999 non-null   int64\n",
            " 3   cc1_miles          3999 non-null   int64\n",
            " 4   cc2_miles          3999 non-null   int64\n",
            " 5   cc3_miles          3999 non-null   int64\n",
            " 6   Bonus_miles        3999 non-null   int64\n",
            " 7   Bonus_trans        3999 non-null   int64\n",
            " 8   Flight_miles_12mo  3999 non-null   int64\n",
            " 9   Flight_trans_12    3999 non-null   int64\n",
            " 10  Days_since_enroll  3999 non-null   int64\n",
            " 11  Award?             3999 non-null   int64\n",
            "dtypes: int64(12)\n",
            "memory usage: 375.0 KB\n"
          ]
        }
      ],
      "source": [
        "dataset.info()"
      ]
    },
    {
      "cell_type": "code",
      "execution_count": null,
      "id": "0402de8b",
      "metadata": {
        "id": "0402de8b",
        "outputId": "b5488266-9649-426a-9c2c-5c9120d6e55c"
      },
      "outputs": [
        {
          "name": "stdout",
          "output_type": "stream",
          "text": [
            "[1 4 3 2 5]\n",
            "[1 2 3]\n",
            "[1 3 2 4 5]\n"
          ]
        }
      ],
      "source": [
        "print(dataset.cc1_miles.unique())\n",
        "print(dataset.cc2_miles.unique())\n",
        "print(dataset.cc3_miles.unique())"
      ]
    },
    {
      "cell_type": "code",
      "execution_count": null,
      "id": "bea5399d",
      "metadata": {
        "id": "bea5399d",
        "outputId": "90fd19f8-4710-469c-de92-1eef22237ac7"
      },
      "outputs": [
        {
          "data": {
            "text/plain": [
              "0    12\n",
              "dtype: int64"
            ]
          },
          "execution_count": 144,
          "metadata": {},
          "output_type": "execute_result"
        }
      ],
      "source": [
        "null_count = dataset.isnull().sum().value_counts(ascending=False)\n",
        "null_count"
      ]
    },
    {
      "cell_type": "code",
      "execution_count": null,
      "id": "fc310b34",
      "metadata": {
        "id": "fc310b34",
        "outputId": "346df6f9-5f3d-4801-f3a9-3539a4ef313b"
      },
      "outputs": [
        {
          "data": {
            "image/png": "[encoded data removed]",
            "text/plain": [
              "<Figure size 432x288 with 1 Axes>"
            ]
          },
          "metadata": {
            "needs_background": "light"
          },
          "output_type": "display_data"
        },
        {
          "data": {
            "image/png": "[encoded data removed]",
            "text/plain": [
              "<Figure size 432x288 with 1 Axes>"
            ]
          },
          "metadata": {
            "needs_background": "light"
          },
          "output_type": "display_data"
        },
        {
          "data": {
            "image/png": "[encoded data removed]",
            "text/plain": [
              "<Figure size 432x288 with 1 Axes>"
            ]
          },
          "metadata": {
            "needs_background": "light"
          },
          "output_type": "display_data"
        },
        {
          "data": {
            "image/png": "[encoded data removed]",
            "text/plain": [
              "<Figure size 432x288 with 1 Axes>"
            ]
          },
          "metadata": {
            "needs_background": "light"
          },
          "output_type": "display_data"
        },
        {
          "data": {
            "image/png": "[encoded data removed]",
            "text/plain": [
              "<Figure size 432x288 with 1 Axes>"
            ]
          },
          "metadata": {
            "needs_background": "light"
          },
          "output_type": "display_data"
        },
        {
          "data": {
            "image/png": "[encoded data removed]",
            "text/plain": [
              "<Figure size 432x288 with 1 Axes>"
            ]
          },
          "metadata": {
            "needs_background": "light"
          },
          "output_type": "display_data"
        },
        {
          "data": {
            "image/png": "[encoded data removed]",
            "text/plain": [
              "<Figure size 432x288 with 1 Axes>"
            ]
          },
          "metadata": {
            "needs_background": "light"
          },
          "output_type": "display_data"
        },
        {
          "data": {
            "image/png": "[encoded data removed]",
            "text/plain": [
              "<Figure size 432x288 with 1 Axes>"
            ]
          },
          "metadata": {
            "needs_background": "light"
          },
          "output_type": "display_data"
        },
        {
          "data": {
            "image/png": "[encoded data removed]",
            "text/plain": [
              "<Figure size 432x288 with 1 Axes>"
            ]
          },
          "metadata": {
            "needs_background": "light"
          },
          "output_type": "display_data"
        },
        {
          "data": {
            "image/png": "[encoded data removed]",
            "text/plain": [
              "<Figure size 432x288 with 1 Axes>"
            ]
          },
          "metadata": {
            "needs_background": "light"
          },
          "output_type": "display_data"
        },
        {
          "data": {
            "image/png": "[encoded data removed]",
            "text/plain": [
              "<Figure size 432x288 with 1 Axes>"
            ]
          },
          "metadata": {
            "needs_background": "light"
          },
          "output_type": "display_data"
        },
        {
          "data": {
            "image/png": "[encoded data removed]",
            "text/plain": [
              "<Figure size 432x288 with 1 Axes>"
            ]
          },
          "metadata": {
            "needs_background": "light"
          },
          "output_type": "display_data"
        }
      ],
      "source": [
        "for feature in dataset.columns:\n",
        "    dataset=dataset.copy()\n",
        "    dataset[feature].hist(bins=25)\n",
        "    plt.ylabel('Count')\n",
        "    plt.title(feature)\n",
        "    plt.show()\n"
      ]
    },
    {
      "cell_type": "code",
      "execution_count": null,
      "id": "394934f1",
      "metadata": {
        "id": "394934f1",
        "outputId": "af2daa27-807f-4375-ca3c-d935fbd10e48"
      },
      "outputs": [
        {
          "data": {
            "text/plain": [
              "<AxesSubplot:>"
            ]
          },
          "execution_count": 146,
          "metadata": {},
          "output_type": "execute_result"
        },
        {
          "data": {
            "image/png": "[encoded data removed]",
            "text/plain": [
              "<Figure size 864x576 with 1 Axes>"
            ]
          },
          "metadata": {
            "needs_background": "light"
          },
          "output_type": "display_data"
        }
      ],
      "source": [
        "import seaborn as sns\n",
        "plt.figure(figsize=(12,8))\n",
        "sns.boxplot(data=dataset) #finding out the outliers"
      ]
    },
    {
      "cell_type": "code",
      "execution_count": null,
      "id": "a9d07669",
      "metadata": {
        "id": "a9d07669",
        "outputId": "bebd3b4b-41b8-48ba-ae8c-efa10309c4c8"
      },
      "outputs": [
        {
          "data": {
            "text/plain": [
              "<AxesSubplot:>"
            ]
          },
          "execution_count": 147,
          "metadata": {},
          "output_type": "execute_result"
        },
        {
          "data": {
            "image/png": "[encoded data removed]",
            "text/plain": [
              "<Figure size 864x576 with 1 Axes>"
            ]
          },
          "metadata": {
            "needs_background": "light"
          },
          "output_type": "display_data"
        }
      ],
      "source": [
        "plt.figure(figsize=(12,8))\n",
        "sns.boxplot(data=np.sqrt(dataset))"
      ]
    },
    {
      "cell_type": "code",
      "execution_count": null,
      "id": "760e5f1f",
      "metadata": {
        "id": "760e5f1f",
        "outputId": "5e89bf09-45fa-4da9-988d-4dc550fcc724"
      },
      "outputs": [
        {
          "data": {
            "text/html": [
              "<div>\n",
              "<style scoped>\n",
              "    .dataframe tbody tr th:only-of-type {\n",
              "        vertical-align: middle;\n",
              "    }\n",
              "\n",
              "    .dataframe tbody tr th {\n",
              "        vertical-align: top;\n",
              "    }\n",
              "\n",
              "    .dataframe thead th {\n",
              "        text-align: right;\n",
              "    }\n",
              "</style>\n",
              "<table border=\"1\" class=\"dataframe\">\n",
              "  <thead>\n",
              "    <tr style=\"text-align: right;\">\n",
              "      <th></th>\n",
              "      <th>Balance</th>\n",
              "      <th>Qual_miles</th>\n",
              "      <th>FreqFlyerMiles</th>\n",
              "      <th>RewardMiles</th>\n",
              "      <th>SmallbusinessMiles</th>\n",
              "      <th>Bonus_miles</th>\n",
              "      <th>Bonus_trans</th>\n",
              "      <th>Flight_miles_12mo</th>\n",
              "      <th>Flight_trans_12</th>\n",
              "      <th>Days_since_enroll</th>\n",
              "      <th>Award</th>\n",
              "    </tr>\n",
              "    <tr>\n",
              "      <th>ID</th>\n",
              "      <th></th>\n",
              "      <th></th>\n",
              "      <th></th>\n",
              "      <th></th>\n",
              "      <th></th>\n",
              "      <th></th>\n",
              "      <th></th>\n",
              "      <th></th>\n",
              "      <th></th>\n",
              "      <th></th>\n",
              "      <th></th>\n",
              "    </tr>\n",
              "  </thead>\n",
              "  <tbody>\n",
              "    <tr>\n",
              "      <th>1</th>\n",
              "      <td>28143</td>\n",
              "      <td>0</td>\n",
              "      <td>1</td>\n",
              "      <td>1</td>\n",
              "      <td>1</td>\n",
              "      <td>174</td>\n",
              "      <td>1</td>\n",
              "      <td>0</td>\n",
              "      <td>0</td>\n",
              "      <td>7000</td>\n",
              "      <td>0</td>\n",
              "    </tr>\n",
              "    <tr>\n",
              "      <th>2</th>\n",
              "      <td>19244</td>\n",
              "      <td>0</td>\n",
              "      <td>1</td>\n",
              "      <td>1</td>\n",
              "      <td>1</td>\n",
              "      <td>215</td>\n",
              "      <td>2</td>\n",
              "      <td>0</td>\n",
              "      <td>0</td>\n",
              "      <td>6968</td>\n",
              "      <td>0</td>\n",
              "    </tr>\n",
              "    <tr>\n",
              "      <th>3</th>\n",
              "      <td>41354</td>\n",
              "      <td>0</td>\n",
              "      <td>1</td>\n",
              "      <td>1</td>\n",
              "      <td>1</td>\n",
              "      <td>4123</td>\n",
              "      <td>4</td>\n",
              "      <td>0</td>\n",
              "      <td>0</td>\n",
              "      <td>7034</td>\n",
              "      <td>0</td>\n",
              "    </tr>\n",
              "    <tr>\n",
              "      <th>4</th>\n",
              "      <td>14776</td>\n",
              "      <td>0</td>\n",
              "      <td>1</td>\n",
              "      <td>1</td>\n",
              "      <td>1</td>\n",
              "      <td>500</td>\n",
              "      <td>1</td>\n",
              "      <td>0</td>\n",
              "      <td>0</td>\n",
              "      <td>6952</td>\n",
              "      <td>0</td>\n",
              "    </tr>\n",
              "    <tr>\n",
              "      <th>5</th>\n",
              "      <td>97752</td>\n",
              "      <td>0</td>\n",
              "      <td>4</td>\n",
              "      <td>1</td>\n",
              "      <td>1</td>\n",
              "      <td>43300</td>\n",
              "      <td>26</td>\n",
              "      <td>2077</td>\n",
              "      <td>4</td>\n",
              "      <td>6935</td>\n",
              "      <td>1</td>\n",
              "    </tr>\n",
              "    <tr>\n",
              "      <th>...</th>\n",
              "      <td>...</td>\n",
              "      <td>...</td>\n",
              "      <td>...</td>\n",
              "      <td>...</td>\n",
              "      <td>...</td>\n",
              "      <td>...</td>\n",
              "      <td>...</td>\n",
              "      <td>...</td>\n",
              "      <td>...</td>\n",
              "      <td>...</td>\n",
              "      <td>...</td>\n",
              "    </tr>\n",
              "    <tr>\n",
              "      <th>4017</th>\n",
              "      <td>18476</td>\n",
              "      <td>0</td>\n",
              "      <td>1</td>\n",
              "      <td>1</td>\n",
              "      <td>1</td>\n",
              "      <td>8525</td>\n",
              "      <td>4</td>\n",
              "      <td>200</td>\n",
              "      <td>1</td>\n",
              "      <td>1403</td>\n",
              "      <td>1</td>\n",
              "    </tr>\n",
              "    <tr>\n",
              "      <th>4018</th>\n",
              "      <td>64385</td>\n",
              "      <td>0</td>\n",
              "      <td>1</td>\n",
              "      <td>1</td>\n",
              "      <td>1</td>\n",
              "      <td>981</td>\n",
              "      <td>5</td>\n",
              "      <td>0</td>\n",
              "      <td>0</td>\n",
              "      <td>1395</td>\n",
              "      <td>1</td>\n",
              "    </tr>\n",
              "    <tr>\n",
              "      <th>4019</th>\n",
              "      <td>73597</td>\n",
              "      <td>0</td>\n",
              "      <td>3</td>\n",
              "      <td>1</td>\n",
              "      <td>1</td>\n",
              "      <td>25447</td>\n",
              "      <td>8</td>\n",
              "      <td>0</td>\n",
              "      <td>0</td>\n",
              "      <td>1402</td>\n",
              "      <td>1</td>\n",
              "    </tr>\n",
              "    <tr>\n",
              "      <th>4020</th>\n",
              "      <td>54899</td>\n",
              "      <td>0</td>\n",
              "      <td>1</td>\n",
              "      <td>1</td>\n",
              "      <td>1</td>\n",
              "      <td>500</td>\n",
              "      <td>1</td>\n",
              "      <td>500</td>\n",
              "      <td>1</td>\n",
              "      <td>1401</td>\n",
              "      <td>0</td>\n",
              "    </tr>\n",
              "    <tr>\n",
              "      <th>4021</th>\n",
              "      <td>3016</td>\n",
              "      <td>0</td>\n",
              "      <td>1</td>\n",
              "      <td>1</td>\n",
              "      <td>1</td>\n",
              "      <td>0</td>\n",
              "      <td>0</td>\n",
              "      <td>0</td>\n",
              "      <td>0</td>\n",
              "      <td>1398</td>\n",
              "      <td>0</td>\n",
              "    </tr>\n",
              "  </tbody>\n",
              "</table>\n",
              "<p>3999 rows × 11 columns</p>\n",
              "</div>"
            ],
            "text/plain": [
              "      Balance  Qual_miles  FreqFlyerMiles  RewardMiles  SmallbusinessMiles  \\\n",
              "ID                                                                           \n",
              "1       28143           0               1            1                   1   \n",
              "2       19244           0               1            1                   1   \n",
              "3       41354           0               1            1                   1   \n",
              "4       14776           0               1            1                   1   \n",
              "5       97752           0               4            1                   1   \n",
              "...       ...         ...             ...          ...                 ...   \n",
              "4017    18476           0               1            1                   1   \n",
              "4018    64385           0               1            1                   1   \n",
              "4019    73597           0               3            1                   1   \n",
              "4020    54899           0               1            1                   1   \n",
              "4021     3016           0               1            1                   1   \n",
              "\n",
              "      Bonus_miles  Bonus_trans  Flight_miles_12mo  Flight_trans_12  \\\n",
              "ID                                                                   \n",
              "1             174            1                  0                0   \n",
              "2             215            2                  0                0   \n",
              "3            4123            4                  0                0   \n",
              "4             500            1                  0                0   \n",
              "5           43300           26               2077                4   \n",
              "...           ...          ...                ...              ...   \n",
              "4017         8525            4                200                1   \n",
              "4018          981            5                  0                0   \n",
              "4019        25447            8                  0                0   \n",
              "4020          500            1                500                1   \n",
              "4021            0            0                  0                0   \n",
              "\n",
              "      Days_since_enroll  Award  \n",
              "ID                              \n",
              "1                  7000      0  \n",
              "2                  6968      0  \n",
              "3                  7034      0  \n",
              "4                  6952      0  \n",
              "5                  6935      1  \n",
              "...                 ...    ...  \n",
              "4017               1403      1  \n",
              "4018               1395      1  \n",
              "4019               1402      1  \n",
              "4020               1401      0  \n",
              "4021               1398      0  \n",
              "\n",
              "[3999 rows x 11 columns]"
            ]
          },
          "execution_count": 148,
          "metadata": {},
          "output_type": "execute_result"
        }
      ],
      "source": [
        "dataset.rename(columns = {'cc1_miles':'FreqFlyerMiles','cc2_miles':'RewardMiles','cc3_miles':'SmallbusinessMiles','ID#':'ID','Award?':'Award'}, inplace = True)\n",
        "\n",
        "\n",
        "#Set ID as Index Column\n",
        "dataset.set_index('ID',inplace=True)\n",
        "dataset"
      ]
    },
    {
      "cell_type": "code",
      "execution_count": null,
      "id": "2e1e0e29",
      "metadata": {
        "id": "2e1e0e29",
        "outputId": "fb1dc871-873e-4495-8ede-4d31b4ffa0cf"
      },
      "outputs": [
        {
          "data": {
            "text/plain": [
              "2518"
            ]
          },
          "execution_count": 149,
          "metadata": {},
          "output_type": "execute_result"
        }
      ],
      "source": [
        "#passengers without Award\n",
        "len(dataset[dataset.Award == 0])"
      ]
    },
    {
      "cell_type": "code",
      "execution_count": null,
      "id": "8c377f95",
      "metadata": {
        "id": "8c377f95",
        "outputId": "634bdb30-a58e-4015-95ea-fbad043c3cc0"
      },
      "outputs": [
        {
          "data": {
            "text/plain": [
              "1481"
            ]
          },
          "execution_count": 150,
          "metadata": {},
          "output_type": "execute_result"
        }
      ],
      "source": [
        "##passengers with Award\n",
        "len(dataset[dataset.Award == 1])"
      ]
    },
    {
      "cell_type": "code",
      "execution_count": null,
      "id": "904953aa",
      "metadata": {
        "id": "904953aa",
        "outputId": "48f5ac9d-47a8-4a9f-bc73-c923b2815a7e"
      },
      "outputs": [
        {
          "data": {
            "text/plain": [
              "<matplotlib.collections.PathCollection at 0x1c3c5f026d0>"
            ]
          },
          "execution_count": 155,
          "metadata": {},
          "output_type": "execute_result"
        },
        {
          "data": {
            "image/png": "[encoded data removed]",
            "text/plain": [
              "<Figure size 432x288 with 1 Axes>"
            ]
          },
          "metadata": {
            "needs_background": "light"
          },
          "output_type": "display_data"
        }
      ],
      "source": [
        "plt.scatter(dataset['Award'], dataset['Balance'],color ='r')\n",
        "\n"
      ]
    },
    {
      "cell_type": "code",
      "execution_count": null,
      "id": "5c607d05",
      "metadata": {
        "id": "5c607d05"
      },
      "outputs": [],
      "source": [
        "corr_matrix = dataset.corr()"
      ]
    },
    {
      "cell_type": "code",
      "execution_count": null,
      "id": "81be820c",
      "metadata": {
        "id": "81be820c",
        "outputId": "233f036c-8815-4bc1-cbf9-6946231aeefa"
      },
      "outputs": [
        {
          "data": {
            "image/png": "[encoded data removed]",
            "text/plain": [
              "<Figure size 1296x576 with 2 Axes>"
            ]
          },
          "metadata": {
            "needs_background": "light"
          },
          "output_type": "display_data"
        }
      ],
      "source": [
        "f,ax = plt.subplots(figsize=(18,8))\n",
        "sns.heatmap(dataset.corr(), annot=True, linewidths =.5, fmt ='.1f',ax=ax)\n",
        "plt.show()"
      ]
    },
    {
      "cell_type": "code",
      "execution_count": null,
      "id": "cdba7fc4",
      "metadata": {
        "id": "cdba7fc4",
        "outputId": "21a4274e-902f-488a-c8b6-379b0e008ffb"
      },
      "outputs": [
        {
          "data": {
            "text/plain": [
              "(3999, 11)"
            ]
          },
          "execution_count": 159,
          "metadata": {},
          "output_type": "execute_result"
        }
      ],
      "source": [
        "standard_scaler = StandardScaler()\n",
        "dataset_std = standard_scaler.fit_transform(dataset)\n",
        "dataset_std.shape"
      ]
    },
    {
      "cell_type": "code",
      "execution_count": null,
      "id": "e52abbda",
      "metadata": {
        "id": "e52abbda",
        "outputId": "4ba3abe1-7950-4c2e-8d6a-c3a615bab7ce"
      },
      "outputs": [
        {
          "data": {
            "image/png": "[encoded data removed]",
            "text/plain": [
              "<Figure size 432x288 with 1 Axes>"
            ]
          },
          "metadata": {
            "needs_background": "light"
          },
          "output_type": "display_data"
        }
      ],
      "source": [
        "import scipy.cluster.hierarchy as sch\n",
        "dendrogram1 = sch.dendrogram(sch.linkage(dataset_std,method = 'ward'))\n",
        "plt.title('Dendrogram')\n",
        "plt.xlabel('Urban Population')\n",
        "plt.ylabel('Euclidean Distances')\n",
        "plt.show()"
      ]
    },
    {
      "cell_type": "code",
      "execution_count": null,
      "id": "b4711d06",
      "metadata": {
        "id": "b4711d06",
        "outputId": "38e65481-0680-49bf-c910-97595839fa9b"
      },
      "outputs": [
        {
          "name": "stdout",
          "output_type": "stream",
          "text": [
            "{'C1', 'C2', 'C0', 'C3'}\n"
          ]
        }
      ],
      "source": [
        "unique_colors1 = set(dendrogram1['color_list'])\n",
        "print(unique_colors1)"
      ]
    },
    {
      "cell_type": "code",
      "execution_count": null,
      "id": "58cad7fd",
      "metadata": {
        "id": "58cad7fd"
      },
      "outputs": [],
      "source": [
        "from sklearn.cluster import AgglomerativeClustering\n",
        "hc1 = AgglomerativeClustering(n_clusters = 3,affinity = 'euclidean', linkage = 'ward')\n",
        "y_hc1 = hc1.fit_predict(dataset_std)"
      ]
    },
    {
      "cell_type": "code",
      "execution_count": null,
      "id": "56eab038",
      "metadata": {
        "id": "56eab038",
        "outputId": "2be859e6-7d8b-4523-ef70-4c680d0b8e93"
      },
      "outputs": [
        {
          "data": {
            "text/plain": [
              "array([0, 0, 0, ..., 1, 0, 0], dtype=int64)"
            ]
          },
          "execution_count": 163,
          "metadata": {},
          "output_type": "execute_result"
        }
      ],
      "source": [
        "y_hc1"
      ]
    },
    {
      "cell_type": "code",
      "execution_count": null,
      "id": "07de3988",
      "metadata": {
        "id": "07de3988",
        "outputId": "80e6d0ba-6ea5-42b6-b925-5dc701945a28"
      },
      "outputs": [
        {
          "data": {
            "image/png": "[encoded data removed]",
            "text/plain": [
              "<Figure size 432x288 with 1 Axes>"
            ]
          },
          "metadata": {
            "needs_background": "light"
          },
          "output_type": "display_data"
        }
      ],
      "source": [
        "#Visualizing a cluster\n",
        "plt.scatter(dataset_std[y_hc1 == 0,0], dataset_std[y_hc1 == 0,1], s = 100, c = 'red', label = 'Cluster 1')\n",
        "plt.scatter(dataset_std[y_hc1 == 1,0],dataset_std[y_hc1 == 1,1], s = 100, c = 'blue', label = 'Cluster 2')\n",
        "plt.scatter(dataset_std[y_hc1 == 2,0], dataset_std[y_hc1 == 2,1], s = 100, c = 'green', label = 'Cluster 3')\n",
        "plt.legend()\n",
        "plt.show()"
      ]
    },
    {
      "cell_type": "code",
      "execution_count": null,
      "id": "39b94ce5",
      "metadata": {
        "id": "39b94ce5"
      },
      "outputs": [],
      "source": [
        "from sklearn.cluster import AgglomerativeClustering\n",
        "hc2 = AgglomerativeClustering(n_clusters = 2,affinity = 'euclidean', linkage = 'ward')\n",
        "y_hc2 = hc2.fit_predict(dataset_std)"
      ]
    },
    {
      "cell_type": "code",
      "execution_count": null,
      "id": "5691f36b",
      "metadata": {
        "id": "5691f36b",
        "outputId": "029fe7a4-6acb-4e5c-fb32-01315dbda636"
      },
      "outputs": [
        {
          "data": {
            "image/png": "[encoded data removed]",
            "text/plain": [
              "<Figure size 432x288 with 1 Axes>"
            ]
          },
          "metadata": {
            "needs_background": "light"
          },
          "output_type": "display_data"
        }
      ],
      "source": [
        "#Visualizing a cluster\n",
        "plt.scatter(dataset_std[y_hc2 == 0,0], dataset_std[y_hc2 == 0,1], s = 100, c = 'red', label = 'Cluster 1')\n",
        "plt.scatter(dataset_std[y_hc2 == 1,0],dataset_std[y_hc2 == 1,1], s = 100, c = 'blue', label = 'Cluster 2')\n",
        "#plt.scatter(dataset_std[y_hc1 == 2,0], dataset_std[y_hc1 == 2,1], s = 100, c = 'green', label = 'Cluster 3')\n",
        "plt.legend()\n",
        "plt.show()"
      ]
    },
    {
      "cell_type": "markdown",
      "id": "59870722",
      "metadata": {
        "id": "59870722"
      },
      "source": [
        "# CLUSTERING FOR CRIME DATA"
      ]
    },
    {
      "cell_type": "code",
      "execution_count": null,
      "id": "4dcf3b90",
      "metadata": {
        "id": "4dcf3b90"
      },
      "outputs": [],
      "source": []
    },
    {
      "cell_type": "markdown",
      "id": "eea39203",
      "metadata": {
        "id": "eea39203"
      },
      "source": [
        "# HIERARCHICAL CLUSTERING"
      ]
    },
    {
      "cell_type": "code",
      "execution_count": null,
      "id": "da514edf",
      "metadata": {
        "id": "da514edf"
      },
      "outputs": [],
      "source": [
        "#import the libraries\n",
        "import numpy as np\n",
        "import matplotlib.pyplot as plt\n",
        "import pandas as pd\n"
      ]
    },
    {
      "cell_type": "code",
      "execution_count": null,
      "id": "fe2af3d7",
      "metadata": {
        "id": "fe2af3d7"
      },
      "outputs": [],
      "source": [
        "dataset=pd.read_csv('CRIME DATA.csv')"
      ]
    },
    {
      "cell_type": "code",
      "execution_count": null,
      "id": "dfdb8cfb",
      "metadata": {
        "id": "dfdb8cfb",
        "outputId": "09fc9164-cf02-4001-fdf1-f0c513475f86"
      },
      "outputs": [
        {
          "data": {
            "text/html": [
              "<div>\n",
              "<style scoped>\n",
              "    .dataframe tbody tr th:only-of-type {\n",
              "        vertical-align: middle;\n",
              "    }\n",
              "\n",
              "    .dataframe tbody tr th {\n",
              "        vertical-align: top;\n",
              "    }\n",
              "\n",
              "    .dataframe thead th {\n",
              "        text-align: right;\n",
              "    }\n",
              "</style>\n",
              "<table border=\"1\" class=\"dataframe\">\n",
              "  <thead>\n",
              "    <tr style=\"text-align: right;\">\n",
              "      <th></th>\n",
              "      <th>Unnamed: 0</th>\n",
              "      <th>Murder</th>\n",
              "      <th>Assault</th>\n",
              "      <th>UrbanPop</th>\n",
              "      <th>Rape</th>\n",
              "    </tr>\n",
              "  </thead>\n",
              "  <tbody>\n",
              "    <tr>\n",
              "      <th>0</th>\n",
              "      <td>Alabama</td>\n",
              "      <td>13.2</td>\n",
              "      <td>236</td>\n",
              "      <td>58</td>\n",
              "      <td>21.2</td>\n",
              "    </tr>\n",
              "    <tr>\n",
              "      <th>1</th>\n",
              "      <td>Alaska</td>\n",
              "      <td>10.0</td>\n",
              "      <td>263</td>\n",
              "      <td>48</td>\n",
              "      <td>44.5</td>\n",
              "    </tr>\n",
              "    <tr>\n",
              "      <th>2</th>\n",
              "      <td>Arizona</td>\n",
              "      <td>8.1</td>\n",
              "      <td>294</td>\n",
              "      <td>80</td>\n",
              "      <td>31.0</td>\n",
              "    </tr>\n",
              "    <tr>\n",
              "      <th>3</th>\n",
              "      <td>Arkansas</td>\n",
              "      <td>8.8</td>\n",
              "      <td>190</td>\n",
              "      <td>50</td>\n",
              "      <td>19.5</td>\n",
              "    </tr>\n",
              "    <tr>\n",
              "      <th>4</th>\n",
              "      <td>California</td>\n",
              "      <td>9.0</td>\n",
              "      <td>276</td>\n",
              "      <td>91</td>\n",
              "      <td>40.6</td>\n",
              "    </tr>\n",
              "  </tbody>\n",
              "</table>\n",
              "</div>"
            ],
            "text/plain": [
              "   Unnamed: 0  Murder  Assault  UrbanPop  Rape\n",
              "0     Alabama    13.2      236        58  21.2\n",
              "1      Alaska    10.0      263        48  44.5\n",
              "2     Arizona     8.1      294        80  31.0\n",
              "3    Arkansas     8.8      190        50  19.5\n",
              "4  California     9.0      276        91  40.6"
            ]
          },
          "execution_count": 9,
          "metadata": {},
          "output_type": "execute_result"
        }
      ],
      "source": [
        "dataset.head()"
      ]
    },
    {
      "cell_type": "code",
      "execution_count": null,
      "id": "acd226db",
      "metadata": {
        "id": "acd226db"
      },
      "outputs": [],
      "source": [
        "dataset.rename(columns = {'Unnamed: 0':'State'}, inplace = True)"
      ]
    },
    {
      "cell_type": "code",
      "execution_count": null,
      "id": "b7134650",
      "metadata": {
        "id": "b7134650",
        "outputId": "9793589a-fb24-44d4-a3c8-ec4e8a593bb2"
      },
      "outputs": [
        {
          "data": {
            "text/html": [
              "<div>\n",
              "<style scoped>\n",
              "    .dataframe tbody tr th:only-of-type {\n",
              "        vertical-align: middle;\n",
              "    }\n",
              "\n",
              "    .dataframe tbody tr th {\n",
              "        vertical-align: top;\n",
              "    }\n",
              "\n",
              "    .dataframe thead th {\n",
              "        text-align: right;\n",
              "    }\n",
              "</style>\n",
              "<table border=\"1\" class=\"dataframe\">\n",
              "  <thead>\n",
              "    <tr style=\"text-align: right;\">\n",
              "      <th></th>\n",
              "      <th>State</th>\n",
              "      <th>Murder</th>\n",
              "      <th>Assault</th>\n",
              "      <th>UrbanPop</th>\n",
              "      <th>Rape</th>\n",
              "    </tr>\n",
              "  </thead>\n",
              "  <tbody>\n",
              "    <tr>\n",
              "      <th>0</th>\n",
              "      <td>Alabama</td>\n",
              "      <td>13.2</td>\n",
              "      <td>236</td>\n",
              "      <td>58</td>\n",
              "      <td>21.2</td>\n",
              "    </tr>\n",
              "    <tr>\n",
              "      <th>1</th>\n",
              "      <td>Alaska</td>\n",
              "      <td>10.0</td>\n",
              "      <td>263</td>\n",
              "      <td>48</td>\n",
              "      <td>44.5</td>\n",
              "    </tr>\n",
              "    <tr>\n",
              "      <th>2</th>\n",
              "      <td>Arizona</td>\n",
              "      <td>8.1</td>\n",
              "      <td>294</td>\n",
              "      <td>80</td>\n",
              "      <td>31.0</td>\n",
              "    </tr>\n",
              "    <tr>\n",
              "      <th>3</th>\n",
              "      <td>Arkansas</td>\n",
              "      <td>8.8</td>\n",
              "      <td>190</td>\n",
              "      <td>50</td>\n",
              "      <td>19.5</td>\n",
              "    </tr>\n",
              "    <tr>\n",
              "      <th>4</th>\n",
              "      <td>California</td>\n",
              "      <td>9.0</td>\n",
              "      <td>276</td>\n",
              "      <td>91</td>\n",
              "      <td>40.6</td>\n",
              "    </tr>\n",
              "  </tbody>\n",
              "</table>\n",
              "</div>"
            ],
            "text/plain": [
              "        State  Murder  Assault  UrbanPop  Rape\n",
              "0     Alabama    13.2      236        58  21.2\n",
              "1      Alaska    10.0      263        48  44.5\n",
              "2     Arizona     8.1      294        80  31.0\n",
              "3    Arkansas     8.8      190        50  19.5\n",
              "4  California     9.0      276        91  40.6"
            ]
          },
          "execution_count": 11,
          "metadata": {},
          "output_type": "execute_result"
        }
      ],
      "source": [
        "dataset.head()"
      ]
    },
    {
      "cell_type": "code",
      "execution_count": null,
      "id": "3ab3a8cc",
      "metadata": {
        "id": "3ab3a8cc",
        "outputId": "bd19fe0a-44fa-4f11-fe72-56162cb7a98e"
      },
      "outputs": [
        {
          "data": {
            "text/plain": [
              "Text(0, 0.5, 'Murder Rate')"
            ]
          },
          "execution_count": 12,
          "metadata": {},
          "output_type": "execute_result"
        },
        {
          "data": {
            "image/png": "[encoded data removed]",
            "text/plain": [
              "<Figure size 720x360 with 1 Axes>"
            ]
          },
          "metadata": {
            "needs_background": "light"
          },
          "output_type": "display_data"
        }
      ],
      "source": [
        "plt.figure(figsize=(10,5))\n",
        "plt.scatter('UrbanPop','Murder',data=dataset)\n",
        "plt.xlabel('Urban Population')\n",
        "plt.ylabel('Murder Rate')"
      ]
    },
    {
      "cell_type": "code",
      "execution_count": null,
      "id": "ae95cc7c",
      "metadata": {
        "id": "ae95cc7c",
        "outputId": "0ab336a4-18fd-4069-a0b6-9c5685708467"
      },
      "outputs": [
        {
          "data": {
            "text/plain": [
              "Text(0, 0.5, 'Assault Rate')"
            ]
          },
          "execution_count": 13,
          "metadata": {},
          "output_type": "execute_result"
        },
        {
          "data": {
            "image/png": "[encoded data removed]",
            "text/plain": [
              "<Figure size 720x360 with 1 Axes>"
            ]
          },
          "metadata": {
            "needs_background": "light"
          },
          "output_type": "display_data"
        }
      ],
      "source": [
        "plt.figure(figsize=(10,5))\n",
        "plt.scatter('UrbanPop','Assault',data=dataset)\n",
        "plt.xlabel('Urban Population')\n",
        "plt.ylabel('Assault Rate')"
      ]
    },
    {
      "cell_type": "code",
      "execution_count": null,
      "id": "b1bef3a8",
      "metadata": {
        "id": "b1bef3a8",
        "outputId": "598b1dbb-1e08-43a6-e528-fbf647b83949"
      },
      "outputs": [
        {
          "data": {
            "text/plain": [
              "Text(0, 0.5, 'Rape Rate')"
            ]
          },
          "execution_count": 14,
          "metadata": {},
          "output_type": "execute_result"
        },
        {
          "data": {
            "image/png": "[encoded data removed]",
            "text/plain": [
              "<Figure size 720x360 with 1 Axes>"
            ]
          },
          "metadata": {
            "needs_background": "light"
          },
          "output_type": "display_data"
        }
      ],
      "source": [
        "plt.figure(figsize=(10,5))\n",
        "plt.scatter('UrbanPop','Rape',data=dataset)\n",
        "plt.xlabel('Urban Population')\n",
        "plt.ylabel('Rape Rate')"
      ]
    },
    {
      "cell_type": "code",
      "execution_count": null,
      "id": "b4fa7cd1",
      "metadata": {
        "id": "b4fa7cd1"
      },
      "outputs": [],
      "source": [
        "#from sklearn.preprocessing import LabelEncoder"
      ]
    },
    {
      "cell_type": "code",
      "execution_count": null,
      "id": "e4c762a3",
      "metadata": {
        "id": "e4c762a3"
      },
      "outputs": [],
      "source": [
        "#label_encoder = LabelEncoder()"
      ]
    },
    {
      "cell_type": "code",
      "execution_count": null,
      "id": "2d1a42d7",
      "metadata": {
        "id": "2d1a42d7"
      },
      "outputs": [],
      "source": [
        "#dataset['City'] = label_encoder.fit_transform(dataset['City'])"
      ]
    },
    {
      "cell_type": "code",
      "execution_count": null,
      "id": "32166bdb",
      "metadata": {
        "id": "32166bdb"
      },
      "outputs": [],
      "source": [
        "#dataset.info()"
      ]
    },
    {
      "cell_type": "code",
      "execution_count": null,
      "id": "608d063f",
      "metadata": {
        "id": "608d063f",
        "outputId": "c38c5da1-aebe-4d80-ff74-f6789d77b160"
      },
      "outputs": [
        {
          "data": {
            "text/plain": [
              "array([[ 13.2, 236. ,  58. ,  21.2],\n",
              "       [ 10. , 263. ,  48. ,  44.5],\n",
              "       [  8.1, 294. ,  80. ,  31. ],\n",
              "       [  8.8, 190. ,  50. ,  19.5],\n",
              "       [  9. , 276. ,  91. ,  40.6],\n",
              "       [  7.9, 204. ,  78. ,  38.7],\n",
              "       [  3.3, 110. ,  77. ,  11.1],\n",
              "       [  5.9, 238. ,  72. ,  15.8],\n",
              "       [ 15.4, 335. ,  80. ,  31.9],\n",
              "       [ 17.4, 211. ,  60. ,  25.8],\n",
              "       [  5.3,  46. ,  83. ,  20.2],\n",
              "       [  2.6, 120. ,  54. ,  14.2],\n",
              "       [ 10.4, 249. ,  83. ,  24. ],\n",
              "       [  7.2, 113. ,  65. ,  21. ],\n",
              "       [  2.2,  56. ,  57. ,  11.3],\n",
              "       [  6. , 115. ,  66. ,  18. ],\n",
              "       [  9.7, 109. ,  52. ,  16.3],\n",
              "       [ 15.4, 249. ,  66. ,  22.2],\n",
              "       [  2.1,  83. ,  51. ,   7.8],\n",
              "       [ 11.3, 300. ,  67. ,  27.8],\n",
              "       [  4.4, 149. ,  85. ,  16.3],\n",
              "       [ 12.1, 255. ,  74. ,  35.1],\n",
              "       [  2.7,  72. ,  66. ,  14.9],\n",
              "       [ 16.1, 259. ,  44. ,  17.1],\n",
              "       [  9. , 178. ,  70. ,  28.2],\n",
              "       [  6. , 109. ,  53. ,  16.4],\n",
              "       [  4.3, 102. ,  62. ,  16.5],\n",
              "       [ 12.2, 252. ,  81. ,  46. ],\n",
              "       [  2.1,  57. ,  56. ,   9.5],\n",
              "       [  7.4, 159. ,  89. ,  18.8],\n",
              "       [ 11.4, 285. ,  70. ,  32.1],\n",
              "       [ 11.1, 254. ,  86. ,  26.1],\n",
              "       [ 13. , 337. ,  45. ,  16.1],\n",
              "       [  0.8,  45. ,  44. ,   7.3],\n",
              "       [  7.3, 120. ,  75. ,  21.4],\n",
              "       [  6.6, 151. ,  68. ,  20. ],\n",
              "       [  4.9, 159. ,  67. ,  29.3],\n",
              "       [  6.3, 106. ,  72. ,  14.9],\n",
              "       [  3.4, 174. ,  87. ,   8.3],\n",
              "       [ 14.4, 279. ,  48. ,  22.5],\n",
              "       [  3.8,  86. ,  45. ,  12.8],\n",
              "       [ 13.2, 188. ,  59. ,  26.9],\n",
              "       [ 12.7, 201. ,  80. ,  25.5],\n",
              "       [  3.2, 120. ,  80. ,  22.9],\n",
              "       [  2.2,  48. ,  32. ,  11.2],\n",
              "       [  8.5, 156. ,  63. ,  20.7],\n",
              "       [  4. , 145. ,  73. ,  26.2],\n",
              "       [  5.7,  81. ,  39. ,   9.3],\n",
              "       [  2.6,  53. ,  66. ,  10.8],\n",
              "       [  6.8, 161. ,  60. ,  15.6]])"
            ]
          },
          "execution_count": 19,
          "metadata": {},
          "output_type": "execute_result"
        }
      ],
      "source": [
        "crime_data = dataset.iloc[:,1:].values\n",
        "crime_data"
      ]
    },
    {
      "cell_type": "code",
      "execution_count": null,
      "id": "b5f1a9e9",
      "metadata": {
        "id": "b5f1a9e9"
      },
      "outputs": [],
      "source": []
    },
    {
      "cell_type": "raw",
      "id": "25b46ea8",
      "metadata": {
        "id": "25b46ea8"
      },
      "source": [
        "NORMALIZING DATA"
      ]
    },
    {
      "cell_type": "code",
      "execution_count": null,
      "id": "61b2f2da",
      "metadata": {
        "id": "61b2f2da"
      },
      "outputs": [],
      "source": [
        "from sklearn.preprocessing import normalize\n",
        "data_scaled = normalize(crime_data)\n"
      ]
    },
    {
      "cell_type": "code",
      "execution_count": null,
      "id": "c1cffde5",
      "metadata": {
        "id": "c1cffde5",
        "outputId": "eb5593ec-ac21-4539-d5ac-cbeb48ee0799"
      },
      "outputs": [
        {
          "data": {
            "text/plain": [
              "array([[0.05403139, 0.96601575, 0.23741065, 0.08677769],\n",
              "       [0.0368722 , 0.96973889, 0.17698657, 0.1640813 ],\n",
              "       [0.02643862, 0.95962381, 0.26112213, 0.10118482],\n",
              "       [0.04452761, 0.9613916 , 0.25299779, 0.09866914],\n",
              "       [0.03065655, 0.94013412, 0.30997176, 0.13829509],\n",
              "       [0.03559422, 0.91914181, 0.35143658, 0.17436661],\n",
              "       [0.02448606, 0.81620208, 0.57134146, 0.08236221],\n",
              "       [0.02367351, 0.95496538, 0.28889709, 0.06339686],\n",
              "       [0.04447826, 0.96754652, 0.23105589, 0.09213353],\n",
              "       [0.07853358, 0.95233247, 0.27080544, 0.11644634],\n",
              "       [0.05454612, 0.47341917, 0.85421286, 0.20789277],\n",
              "       [0.01964047, 0.90648301, 0.40791735, 0.10726716],\n",
              "       [0.03942842, 0.94400732, 0.31466911, 0.09098866],\n",
              "       [0.05444736, 0.85452107, 0.49153867, 0.1588048 ],\n",
              "       [0.02725092, 0.69365977, 0.70604655, 0.13997063],\n",
              "       [0.04479483, 0.85856764, 0.49274317, 0.1343845 ],\n",
              "       [0.07934635, 0.89162397, 0.42536189, 0.13333459],\n",
              "       [0.0594568 , 0.96134697, 0.25481486, 0.08571045],\n",
              "       [0.02148317, 0.84909653, 0.52173401, 0.07979461],\n",
              "       [0.03658711, 0.97133917, 0.21693241, 0.09001076],\n",
              "       [0.02552664, 0.8644249 , 0.4931283 , 0.0945646 ],\n",
              "       [0.04513185, 0.95112566, 0.27601294, 0.13091965],\n",
              "       [0.02731694, 0.72845172, 0.66774741, 0.15074904],\n",
              "       [0.06104065, 0.98195836, 0.16681918, 0.064832  ],\n",
              "       [0.04650046, 0.91967573, 0.36167023, 0.14570144],\n",
              "       [0.04899803, 0.89013083, 0.43281591, 0.13392794],\n",
              "       [0.03566195, 0.8459346 , 0.51419554, 0.13684236],\n",
              "       [0.04536293, 0.93700474, 0.3011801 , 0.17104055],\n",
              "       [0.02608814, 0.70810677, 0.69568384, 0.11801779],\n",
              "       [0.04036418, 0.86728448, 0.48546113, 0.10254684],\n",
              "       [0.03858639, 0.96465969, 0.23693396, 0.10865114],\n",
              "       [0.04116297, 0.94192749, 0.31892033, 0.09678861],\n",
              "       [0.03816566, 0.98937136, 0.1321119 , 0.0472667 ],\n",
              "       [0.01262557, 0.71018832, 0.69440636, 0.11520833],\n",
              "       [0.05094039, 0.83737632, 0.5233602 , 0.14933211],\n",
              "       [0.03953545, 0.90452314, 0.40733493, 0.11980439],\n",
              "       [0.02798744, 0.90816377, 0.38268536, 0.16735345],\n",
              "       [0.0487776 , 0.82070242, 0.55745824, 0.11536289],\n",
              "       [0.01745877, 0.89347803, 0.44673901, 0.04261993],\n",
              "       [0.05064066, 0.98116279, 0.1688022 , 0.07912603],\n",
              "       [0.03878504, 0.87776674, 0.45929655, 0.13064435],\n",
              "       [0.06622984, 0.94327353, 0.29602733, 0.13496839],\n",
              "       [0.05820269, 0.92116066, 0.36663111, 0.11686367],\n",
              "       [0.02190823, 0.82155848, 0.54770566, 0.15678074],\n",
              "       [0.03741042, 0.81622738, 0.54415159, 0.19045306],\n",
              "       [0.05008174, 0.91914722, 0.37119407, 0.12196377],\n",
              "       [0.02431782, 0.88152103, 0.44380024, 0.15928173],\n",
              "       [0.06294221, 0.89444191, 0.43065722, 0.10269518],\n",
              "       [0.0304549 , 0.62081152, 0.77308605, 0.12650499],\n",
              "       [0.03938434, 0.93248213, 0.34750887, 0.09035231]])"
            ]
          },
          "execution_count": 21,
          "metadata": {},
          "output_type": "execute_result"
        }
      ],
      "source": [
        "data_scaled"
      ]
    },
    {
      "cell_type": "code",
      "execution_count": null,
      "id": "7ec235f8",
      "metadata": {
        "id": "7ec235f8",
        "outputId": "85696e52-6cb2-412e-a252-7d83d9632118"
      },
      "outputs": [
        {
          "data": {
            "image/png": "[encoded data removed]",
            "text/plain": [
              "<Figure size 432x288 with 1 Axes>"
            ]
          },
          "metadata": {
            "needs_background": "light"
          },
          "output_type": "display_data"
        }
      ],
      "source": [
        "dataset_std"
      ]
    },
    {
      "cell_type": "code",
      "execution_count": null,
      "id": "d7a76c3b",
      "metadata": {
        "id": "d7a76c3b",
        "outputId": "6babd52f-0171-4049-b9b3-6e822d05a42d"
      },
      "outputs": [
        {
          "name": "stdout",
          "output_type": "stream",
          "text": [
            "{'icoord': [[45.0, 45.0, 55.0, 55.0], [35.0, 35.0, 50.0, 50.0], [25.0, 25.0, 42.5, 42.5], [15.0, 15.0, 33.75, 33.75], [5.0, 5.0, 24.375, 24.375], [85.0, 85.0, 95.0, 95.0], [75.0, 75.0, 90.0, 90.0], [65.0, 65.0, 82.5, 82.5], [105.0, 105.0, 115.0, 115.0], [135.0, 135.0, 145.0, 145.0], [125.0, 125.0, 140.0, 140.0], [110.0, 110.0, 132.5, 132.5], [73.75, 73.75, 121.25, 121.25], [165.0, 165.0, 175.0, 175.0], [155.0, 155.0, 170.0, 170.0], [215.0, 215.0, 225.0, 225.0], [205.0, 205.0, 220.0, 220.0], [195.0, 195.0, 212.5, 212.5], [245.0, 245.0, 255.0, 255.0], [235.0, 235.0, 250.0, 250.0], [203.75, 203.75, 242.5, 242.5], [185.0, 185.0, 223.125, 223.125], [162.5, 162.5, 204.0625, 204.0625], [97.5, 97.5, 183.28125, 183.28125], [265.0, 265.0, 275.0, 275.0], [295.0, 295.0, 305.0, 305.0], [285.0, 285.0, 300.0, 300.0], [270.0, 270.0, 292.5, 292.5], [325.0, 325.0, 335.0, 335.0], [315.0, 315.0, 330.0, 330.0], [345.0, 345.0, 355.0, 355.0], [365.0, 365.0, 375.0, 375.0], [350.0, 350.0, 370.0, 370.0], [322.5, 322.5, 360.0, 360.0], [281.25, 281.25, 341.25, 341.25], [405.0, 405.0, 415.0, 415.0], [395.0, 395.0, 410.0, 410.0], [385.0, 385.0, 402.5, 402.5], [425.0, 425.0, 435.0, 435.0], [445.0, 445.0, 455.0, 455.0], [465.0, 465.0, 475.0, 475.0], [485.0, 485.0, 495.0, 495.0], [470.0, 470.0, 490.0, 490.0], [450.0, 450.0, 480.0, 480.0], [430.0, 430.0, 465.0, 465.0], [393.75, 393.75, 447.5, 447.5], [311.25, 311.25, 420.625, 420.625], [140.390625, 140.390625, 365.9375, 365.9375], [14.6875, 14.6875, 253.1640625, 253.1640625]], 'dcoord': [[0.0, 0.013967778278797307, 0.013967778278797307, 0.0], [0.0, 0.035940607206607134, 0.035940607206607134, 0.013967778278797307], [0.0, 0.05848292226359887, 0.05848292226359887, 0.035940607206607134], [0.0, 0.15381331518391575, 0.15381331518391575, 0.05848292226359887], [0.0, 0.35679386972127597, 0.35679386972127597, 0.15381331518391575], [0.0, 0.007684188927766061, 0.007684188927766061, 0.0], [0.0, 0.03771182229623589, 0.03771182229623589, 0.007684188927766061], [0.0, 0.06503737821200489, 0.06503737821200489, 0.03771182229623589], [0.0, 0.037089471073807806, 0.037089471073807806, 0.0], [0.0, 0.030393252679113573, 0.030393252679113573, 0.0], [0.0, 0.03745671652287558, 0.03745671652287558, 0.030393252679113573], [0.037089471073807806, 0.07089241734622684, 0.07089241734622684, 0.03745671652287558], [0.06503737821200489, 0.1302497834858918, 0.1302497834858918, 0.07089241734622684], [0.0, 0.01780574415076051, 0.01780574415076051, 0.0], [0.0, 0.05487580789942343, 0.05487580789942343, 0.01780574415076051], [0.0, 0.012754361115931373, 0.012754361115931373, 0.0], [0.0, 0.025321253267264216, 0.025321253267264216, 0.012754361115931373], [0.0, 0.02705283560997726, 0.02705283560997726, 0.025321253267264216], [0.0, 0.019852253238064117, 0.019852253238064117, 0.0], [0.0, 0.03243477536548706, 0.03243477536548706, 0.019852253238064117], [0.02705283560997726, 0.049205597106846, 0.049205597106846, 0.03243477536548706], [0.0, 0.12588329875077045, 0.12588329875077045, 0.049205597106846], [0.05487580789942343, 0.1869678348000002, 0.1869678348000002, 0.12588329875077045], [0.1302497834858918, 0.304039907021483, 0.304039907021483, 0.1869678348000002], [0.0, 0.010809041867659077, 0.010809041867659077, 0.0], [0.0, 0.03233652714270688, 0.03233652714270688, 0.0], [0.0, 0.0371207824140784, 0.0371207824140784, 0.03233652714270688], [0.010809041867659077, 0.0725332879703613, 0.0725332879703613, 0.0371207824140784], [0.0, 0.031131690308011835, 0.031131690308011835, 0.0], [0.0, 0.03869324278589207, 0.03869324278589207, 0.031131690308011835], [0.0, 0.023604510000194538, 0.023604510000194538, 0.0], [0.0, 0.03526826795580665, 0.03526826795580665, 0.0], [0.023604510000194538, 0.06808786148256962, 0.06808786148256962, 0.03526826795580665], [0.03869324278589207, 0.07932574023115434, 0.07932574023115434, 0.06808786148256962], [0.0725332879703613, 0.16955433702276232, 0.16955433702276232, 0.07932574023115434], [0.0, 0.01873049892389498, 0.01873049892389498, 0.0], [0.0, 0.049213907757649916, 0.049213907757649916, 0.01873049892389498], [0.0, 0.09916271178129145, 0.09916271178129145, 0.049213907757649916], [0.0, 0.04349850435207942, 0.04349850435207942, 0.0], [0.0, 0.03761907353660567, 0.03761907353660567, 0.0], [0.0, 0.02338075696029498, 0.02338075696029498, 0.0], [0.0, 0.026596012783441793, 0.026596012783441793, 0.0], [0.02338075696029498, 0.04434974314873894, 0.04434974314873894, 0.026596012783441793], [0.03761907353660567, 0.09880048858102053, 0.09880048858102053, 0.04434974314873894], [0.04349850435207942, 0.1295592302725646, 0.1295592302725646, 0.09880048858102053], [0.09916271178129145, 0.1927156887132669, 0.1927156887132669, 0.1295592302725646], [0.16955433702276232, 0.44097762247817973, 0.44097762247817973, 0.1927156887132669], [0.304039907021483, 1.0492099589562516, 1.0492099589562516, 0.44097762247817973], [0.35679386972127597, 1.4564678619306852, 1.4564678619306852, 1.0492099589562516]], 'ivl': ['10', '48', '22', '14', '28', '33', '7', '49', '12', '31', '4', '27', '9', '21', '41', '32', '23', '39', '1', '30', '19', '0', '8', '2', '3', '17', '42', '45', '36', '5', '24', '46', '25', '40', '11', '35', '16', '47', '38', '18', '20', '29', '6', '37', '43', '44', '26', '34', '13', '15'], 'leaves': [10, 48, 22, 14, 28, 33, 7, 49, 12, 31, 4, 27, 9, 21, 41, 32, 23, 39, 1, 30, 19, 0, 8, 2, 3, 17, 42, 45, 36, 5, 24, 46, 25, 40, 11, 35, 16, 47, 38, 18, 20, 29, 6, 37, 43, 44, 26, 34, 13, 15], 'color_list': ['C1', 'C1', 'C1', 'C1', 'C1', 'C2', 'C2', 'C2', 'C2', 'C2', 'C2', 'C2', 'C2', 'C2', 'C2', 'C2', 'C2', 'C2', 'C2', 'C2', 'C2', 'C2', 'C2', 'C2', 'C3', 'C3', 'C3', 'C3', 'C3', 'C3', 'C3', 'C3', 'C3', 'C3', 'C3', 'C3', 'C3', 'C3', 'C3', 'C3', 'C3', 'C3', 'C3', 'C3', 'C3', 'C3', 'C3', 'C0', 'C0'], 'leaves_color_list': ['C1', 'C1', 'C1', 'C1', 'C1', 'C1', 'C2', 'C2', 'C2', 'C2', 'C2', 'C2', 'C2', 'C2', 'C2', 'C2', 'C2', 'C2', 'C2', 'C2', 'C2', 'C2', 'C2', 'C2', 'C2', 'C2', 'C3', 'C3', 'C3', 'C3', 'C3', 'C3', 'C3', 'C3', 'C3', 'C3', 'C3', 'C3', 'C3', 'C3', 'C3', 'C3', 'C3', 'C3', 'C3', 'C3', 'C3', 'C3', 'C3', 'C3']}\n"
          ]
        }
      ],
      "source": [
        "#dictionary of dendrogram\n",
        "print(dendrogram)"
      ]
    },
    {
      "cell_type": "code",
      "execution_count": null,
      "id": "b51b8ac8",
      "metadata": {
        "id": "b51b8ac8",
        "outputId": "86167d96-d3eb-4daa-83af-d9151930ef06"
      },
      "outputs": [
        {
          "name": "stdout",
          "output_type": "stream",
          "text": [
            "['C1', 'C1', 'C1', 'C1', 'C1', 'C2', 'C2', 'C2', 'C2', 'C2', 'C2', 'C2', 'C2', 'C2', 'C2', 'C2', 'C2', 'C2', 'C2', 'C2', 'C2', 'C2', 'C2', 'C2', 'C3', 'C3', 'C3', 'C3', 'C3', 'C3', 'C3', 'C3', 'C3', 'C3', 'C3', 'C3', 'C3', 'C3', 'C3', 'C3', 'C3', 'C3', 'C3', 'C3', 'C3', 'C3', 'C3', 'C0', 'C0']\n"
          ]
        }
      ],
      "source": [
        "print(dendrogram['color_list'])"
      ]
    },
    {
      "cell_type": "code",
      "execution_count": null,
      "id": "0cbfc807",
      "metadata": {
        "id": "0cbfc807",
        "outputId": "99308f75-f4a3-432f-c01e-606434dc9022"
      },
      "outputs": [
        {
          "name": "stdout",
          "output_type": "stream",
          "text": [
            "{'C1', 'C2', 'C0', 'C3'}\n"
          ]
        }
      ],
      "source": [
        "unique_colors = set(dendrogram['color_list'])\n",
        "print(unique_colors)"
      ]
    },
    {
      "cell_type": "code",
      "execution_count": null,
      "id": "e3a4f388",
      "metadata": {
        "id": "e3a4f388"
      },
      "outputs": [],
      "source": [
        "#from the dendrogram we can extract the colour list"
      ]
    },
    {
      "cell_type": "code",
      "execution_count": null,
      "id": "6f1555cf",
      "metadata": {
        "id": "6f1555cf"
      },
      "outputs": [],
      "source": [
        "from sklearn.cluster import AgglomerativeClustering\n",
        "hc = AgglomerativeClustering(n_clusters = 3,affinity = 'euclidean', linkage = 'ward')\n",
        "y_hc = hc.fit_predict(data_scaled)"
      ]
    },
    {
      "cell_type": "code",
      "execution_count": null,
      "id": "1714c3b1",
      "metadata": {
        "id": "1714c3b1",
        "outputId": "84876975-9fbb-4087-a6c9-01b6f649d59c"
      },
      "outputs": [
        {
          "data": {
            "text/plain": [
              "array([2, 2, 2, 2, 2, 0, 0, 2, 2, 2, 1, 0, 2, 0, 1, 0, 0, 2, 0, 2, 0, 2,\n",
              "       1, 2, 0, 0, 0, 2, 1, 0, 2, 2, 2, 1, 0, 0, 0, 0, 0, 2, 0, 2, 0, 0,\n",
              "       0, 0, 0, 0, 1, 2], dtype=int64)"
            ]
          },
          "execution_count": 27,
          "metadata": {},
          "output_type": "execute_result"
        }
      ],
      "source": [
        "y_hc\n"
      ]
    },
    {
      "cell_type": "code",
      "execution_count": null,
      "id": "96bca464",
      "metadata": {
        "id": "96bca464",
        "outputId": "0c6c5595-1470-490f-a37c-5d3edd284bff"
      },
      "outputs": [
        {
          "data": {
            "image/png": "[encoded data removed]",
            "text/plain": [
              "<Figure size 432x288 with 1 Axes>"
            ]
          },
          "metadata": {
            "needs_background": "light"
          },
          "output_type": "display_data"
        }
      ],
      "source": [
        "#Visualizing a cluster\n",
        "plt.scatter(data_scaled[y_hc == 0,0], data_scaled[y_hc == 0,1], s = 100, c = 'red', label = 'Cluster 1')\n",
        "plt.scatter(data_scaled[y_hc == 1,0],data_scaled[y_hc == 1,1], s = 100, c = 'blue', label = 'Cluster 2')\n",
        "plt.scatter(data_scaled[y_hc == 2,0], data_scaled[y_hc == 2,1], s = 100, c = 'green', label = 'Cluster 3')\n",
        "plt.legend()\n",
        "plt.show()"
      ]
    },
    {
      "cell_type": "markdown",
      "id": "6d8e0f8a",
      "metadata": {
        "id": "6d8e0f8a"
      },
      "source": [
        "# CRIME DATA KMEANS CLUSTERING"
      ]
    },
    {
      "cell_type": "code",
      "execution_count": null,
      "id": "eb965817",
      "metadata": {
        "id": "eb965817",
        "outputId": "241d473b-47b5-4266-d3c9-dd33b2d50826"
      },
      "outputs": [
        {
          "name": "stderr",
          "output_type": "stream",
          "text": [
            "C:\\Users\\dell\\anaconda3\\lib\\site-packages\\sklearn\\cluster\\_kmeans.py:881: UserWarning: KMeans is known to have a memory leak on Windows with MKL, when there are less chunks than available threads. You can avoid it by setting the environment variable OMP_NUM_THREADS=1.\n",
            "  warnings.warn(\n"
          ]
        },
        {
          "data": {
            "image/png": "[encoded data removed]",
            "text/plain": [
              "<Figure size 432x288 with 1 Axes>"
            ]
          },
          "metadata": {
            "needs_background": "light"
          },
          "output_type": "display_data"
        }
      ],
      "source": [
        "from sklearn.cluster import KMeans\n",
        "wcss = []\n",
        "for i in range (1,11):\n",
        "    kmeans = KMeans(n_clusters = i, init = 'k-means++', max_iter = 300, n_init = 10, random_state = 0)\n",
        "    kmeans.fit(data_scaled)\n",
        "    wcss.append(kmeans.inertia_)\n",
        "plt.plot(range(1,11),wcss)\n",
        "plt.title('The Elbow Method')\n",
        "plt.xlabel(\"Number of Clusters\")\n",
        "plt.show()"
      ]
    },
    {
      "cell_type": "code",
      "execution_count": null,
      "id": "77c603a7",
      "metadata": {
        "id": "77c603a7"
      },
      "outputs": [],
      "source": [
        "kmeans = KMeans(n_clusters = 3, init = 'k-means++', max_iter = 300, n_init = 10, random_state = 0)"
      ]
    },
    {
      "cell_type": "code",
      "execution_count": null,
      "id": "e40d07b9",
      "metadata": {
        "id": "e40d07b9"
      },
      "outputs": [],
      "source": [
        "y_kmeans = kmeans.fit_predict(data_scaled)"
      ]
    },
    {
      "cell_type": "code",
      "execution_count": null,
      "id": "dc9e069b",
      "metadata": {
        "id": "dc9e069b",
        "outputId": "8b5cd6c7-d471-4e5f-905e-bb33d44970f4"
      },
      "outputs": [
        {
          "data": {
            "text/plain": [
              "array([1, 1, 1, 1, 1, 1, 0, 1, 1, 1, 2, 0, 1, 0, 2, 0, 0, 1, 0, 1, 0, 1,\n",
              "       2, 1, 1, 0, 0, 1, 2, 0, 1, 1, 1, 2, 0, 0, 0, 0, 0, 1, 0, 1, 1, 0,\n",
              "       0, 1, 0, 0, 2, 1])"
            ]
          },
          "execution_count": 36,
          "metadata": {},
          "output_type": "execute_result"
        }
      ],
      "source": [
        "y_kmeans"
      ]
    },
    {
      "cell_type": "code",
      "execution_count": null,
      "id": "225402d7",
      "metadata": {
        "id": "225402d7",
        "outputId": "9b666b9c-40f2-47b8-ba6d-7e03df048ab8"
      },
      "outputs": [
        {
          "data": {
            "image/png": "[encoded data removed]",
            "text/plain": [
              "<Figure size 432x288 with 1 Axes>"
            ]
          },
          "metadata": {
            "needs_background": "light"
          },
          "output_type": "display_data"
        }
      ],
      "source": [
        "#Visualizing a cluster\n",
        "plt.scatter(data_scaled[y_kmeans == 0,0], data_scaled[y_kmeans == 0,1], s = 100, c = 'red', label = 'Cluster 1')\n",
        "plt.scatter(data_scaled[y_kmeans == 1,0], data_scaled[y_kmeans == 1,1], s = 100, c = 'blue', label = 'Cluster 2')\n",
        "plt.scatter(data_scaled[y_kmeans == 2,0], data_scaled[y_kmeans == 2,1], s = 100, c = 'green', label = 'Cluster 3')\n",
        "plt.legend()\n",
        "plt.show()"
      ]
    },
    {
      "cell_type": "code",
      "execution_count": null,
      "id": "089f7567",
      "metadata": {
        "id": "089f7567",
        "outputId": "ce46d0e1-6e7d-4935-88d8-e707a64f4af4"
      },
      "outputs": [
        {
          "data": {
            "image/png": "[encoded data removed]",
            "text/plain": [
              "<Figure size 432x288 with 1 Axes>"
            ]
          },
          "metadata": {
            "needs_background": "light"
          },
          "output_type": "display_data"
        }
      ],
      "source": [
        "plt.scatter(data_scaled[y_kmeans == 0,0], data_scaled[y_kmeans == 0,1], s = 100, c = 'red', label = 'Cluster 1')\n",
        "plt.scatter(data_scaled[y_kmeans == 1,0], data_scaled[y_kmeans == 1,1], s = 100, c = 'blue', label = 'Cluster 2')\n",
        "plt.scatter(data_scaled[y_kmeans == 2,0], data_scaled[y_kmeans == 2,1], s = 100, c = 'green', label = 'Cluster 3')\n",
        "plt.scatter(kmeans.cluster_centers_[:,0], kmeans.cluster_centers_[:,1], s=200, c= 'black',label = 'Centroids')\n",
        "plt.legend()\n",
        "plt.show()\n",
        "\n"
      ]
    },
    {
      "cell_type": "markdown",
      "id": "aaeee4e4",
      "metadata": {
        "id": "aaeee4e4"
      },
      "source": [
        "# CRIME DATA DBSCAN"
      ]
    },
    {
      "cell_type": "code",
      "execution_count": null,
      "id": "e798ea6b",
      "metadata": {
        "id": "e798ea6b"
      },
      "outputs": [],
      "source": [
        "dataset1=pd.read_csv('CRIME DATA.csv')"
      ]
    },
    {
      "cell_type": "code",
      "execution_count": null,
      "id": "96f30c88",
      "metadata": {
        "id": "96f30c88",
        "outputId": "0ffe315e-4729-41f1-9ebc-96948f7a8b59"
      },
      "outputs": [
        {
          "data": {
            "text/html": [
              "<div>\n",
              "<style scoped>\n",
              "    .dataframe tbody tr th:only-of-type {\n",
              "        vertical-align: middle;\n",
              "    }\n",
              "\n",
              "    .dataframe tbody tr th {\n",
              "        vertical-align: top;\n",
              "    }\n",
              "\n",
              "    .dataframe thead th {\n",
              "        text-align: right;\n",
              "    }\n",
              "</style>\n",
              "<table border=\"1\" class=\"dataframe\">\n",
              "  <thead>\n",
              "    <tr style=\"text-align: right;\">\n",
              "      <th></th>\n",
              "      <th>Murder</th>\n",
              "      <th>Assault</th>\n",
              "      <th>UrbanPop</th>\n",
              "      <th>Rape</th>\n",
              "    </tr>\n",
              "  </thead>\n",
              "  <tbody>\n",
              "    <tr>\n",
              "      <th>0</th>\n",
              "      <td>13.2</td>\n",
              "      <td>236</td>\n",
              "      <td>58</td>\n",
              "      <td>21.2</td>\n",
              "    </tr>\n",
              "    <tr>\n",
              "      <th>1</th>\n",
              "      <td>10.0</td>\n",
              "      <td>263</td>\n",
              "      <td>48</td>\n",
              "      <td>44.5</td>\n",
              "    </tr>\n",
              "    <tr>\n",
              "      <th>2</th>\n",
              "      <td>8.1</td>\n",
              "      <td>294</td>\n",
              "      <td>80</td>\n",
              "      <td>31.0</td>\n",
              "    </tr>\n",
              "    <tr>\n",
              "      <th>3</th>\n",
              "      <td>8.8</td>\n",
              "      <td>190</td>\n",
              "      <td>50</td>\n",
              "      <td>19.5</td>\n",
              "    </tr>\n",
              "    <tr>\n",
              "      <th>4</th>\n",
              "      <td>9.0</td>\n",
              "      <td>276</td>\n",
              "      <td>91</td>\n",
              "      <td>40.6</td>\n",
              "    </tr>\n",
              "  </tbody>\n",
              "</table>\n",
              "</div>"
            ],
            "text/plain": [
              "   Murder  Assault  UrbanPop  Rape\n",
              "0    13.2      236        58  21.2\n",
              "1    10.0      263        48  44.5\n",
              "2     8.1      294        80  31.0\n",
              "3     8.8      190        50  19.5\n",
              "4     9.0      276        91  40.6"
            ]
          },
          "execution_count": 48,
          "metadata": {},
          "output_type": "execute_result"
        }
      ],
      "source": [
        "dataset1.drop(['Unnamed: 0'],axis=1,inplace=True)\n",
        "dataset1.head()"
      ]
    },
    {
      "cell_type": "code",
      "execution_count": null,
      "id": "afe99902",
      "metadata": {
        "id": "afe99902",
        "outputId": "8eda2971-1224-43d7-92b3-59d2f6be405a"
      },
      "outputs": [
        {
          "data": {
            "text/html": [
              "<div>\n",
              "<style scoped>\n",
              "    .dataframe tbody tr th:only-of-type {\n",
              "        vertical-align: middle;\n",
              "    }\n",
              "\n",
              "    .dataframe tbody tr th {\n",
              "        vertical-align: top;\n",
              "    }\n",
              "\n",
              "    .dataframe thead th {\n",
              "        text-align: right;\n",
              "    }\n",
              "</style>\n",
              "<table border=\"1\" class=\"dataframe\">\n",
              "  <thead>\n",
              "    <tr style=\"text-align: right;\">\n",
              "      <th></th>\n",
              "      <th>0</th>\n",
              "      <th>1</th>\n",
              "      <th>2</th>\n",
              "      <th>3</th>\n",
              "    </tr>\n",
              "  </thead>\n",
              "  <tbody>\n",
              "    <tr>\n",
              "      <th>0</th>\n",
              "      <td>1.255179</td>\n",
              "      <td>0.790787</td>\n",
              "      <td>-0.526195</td>\n",
              "      <td>-0.003451</td>\n",
              "    </tr>\n",
              "    <tr>\n",
              "      <th>1</th>\n",
              "      <td>0.513019</td>\n",
              "      <td>1.118060</td>\n",
              "      <td>-1.224067</td>\n",
              "      <td>2.509424</td>\n",
              "    </tr>\n",
              "    <tr>\n",
              "      <th>2</th>\n",
              "      <td>0.072361</td>\n",
              "      <td>1.493817</td>\n",
              "      <td>1.009122</td>\n",
              "      <td>1.053466</td>\n",
              "    </tr>\n",
              "    <tr>\n",
              "      <th>3</th>\n",
              "      <td>0.234708</td>\n",
              "      <td>0.233212</td>\n",
              "      <td>-1.084492</td>\n",
              "      <td>-0.186794</td>\n",
              "    </tr>\n",
              "    <tr>\n",
              "      <th>4</th>\n",
              "      <td>0.281093</td>\n",
              "      <td>1.275635</td>\n",
              "      <td>1.776781</td>\n",
              "      <td>2.088814</td>\n",
              "    </tr>\n",
              "    <tr>\n",
              "      <th>5</th>\n",
              "      <td>0.025976</td>\n",
              "      <td>0.402909</td>\n",
              "      <td>0.869548</td>\n",
              "      <td>1.883901</td>\n",
              "    </tr>\n",
              "    <tr>\n",
              "      <th>6</th>\n",
              "      <td>-1.040880</td>\n",
              "      <td>-0.736484</td>\n",
              "      <td>0.799761</td>\n",
              "      <td>-1.092723</td>\n",
              "    </tr>\n",
              "    <tr>\n",
              "      <th>7</th>\n",
              "      <td>-0.437875</td>\n",
              "      <td>0.815030</td>\n",
              "      <td>0.450825</td>\n",
              "      <td>-0.585834</td>\n",
              "    </tr>\n",
              "    <tr>\n",
              "      <th>8</th>\n",
              "      <td>1.765415</td>\n",
              "      <td>1.990786</td>\n",
              "      <td>1.009122</td>\n",
              "      <td>1.150530</td>\n",
              "    </tr>\n",
              "    <tr>\n",
              "      <th>9</th>\n",
              "      <td>2.229265</td>\n",
              "      <td>0.487757</td>\n",
              "      <td>-0.386621</td>\n",
              "      <td>0.492653</td>\n",
              "    </tr>\n",
              "    <tr>\n",
              "      <th>10</th>\n",
              "      <td>-0.577030</td>\n",
              "      <td>-1.512241</td>\n",
              "      <td>1.218484</td>\n",
              "      <td>-0.111300</td>\n",
              "    </tr>\n",
              "    <tr>\n",
              "      <th>11</th>\n",
              "      <td>-1.203228</td>\n",
              "      <td>-0.615272</td>\n",
              "      <td>-0.805344</td>\n",
              "      <td>-0.758392</td>\n",
              "    </tr>\n",
              "    <tr>\n",
              "      <th>12</th>\n",
              "      <td>0.605789</td>\n",
              "      <td>0.948363</td>\n",
              "      <td>1.218484</td>\n",
              "      <td>0.298525</td>\n",
              "    </tr>\n",
              "    <tr>\n",
              "      <th>13</th>\n",
              "      <td>-0.136372</td>\n",
              "      <td>-0.700121</td>\n",
              "      <td>-0.037685</td>\n",
              "      <td>-0.025021</td>\n",
              "    </tr>\n",
              "    <tr>\n",
              "      <th>14</th>\n",
              "      <td>-1.295998</td>\n",
              "      <td>-1.391029</td>\n",
              "      <td>-0.595982</td>\n",
              "      <td>-1.071153</td>\n",
              "    </tr>\n",
              "    <tr>\n",
              "      <th>15</th>\n",
              "      <td>-0.414682</td>\n",
              "      <td>-0.675878</td>\n",
              "      <td>0.032102</td>\n",
              "      <td>-0.348567</td>\n",
              "    </tr>\n",
              "    <tr>\n",
              "      <th>16</th>\n",
              "      <td>0.443441</td>\n",
              "      <td>-0.748605</td>\n",
              "      <td>-0.944918</td>\n",
              "      <td>-0.531910</td>\n",
              "    </tr>\n",
              "    <tr>\n",
              "      <th>17</th>\n",
              "      <td>1.765415</td>\n",
              "      <td>0.948363</td>\n",
              "      <td>0.032102</td>\n",
              "      <td>0.104398</td>\n",
              "    </tr>\n",
              "    <tr>\n",
              "      <th>18</th>\n",
              "      <td>-1.319191</td>\n",
              "      <td>-1.063757</td>\n",
              "      <td>-1.014705</td>\n",
              "      <td>-1.448624</td>\n",
              "    </tr>\n",
              "    <tr>\n",
              "      <th>19</th>\n",
              "      <td>0.814521</td>\n",
              "      <td>1.566544</td>\n",
              "      <td>0.101889</td>\n",
              "      <td>0.708350</td>\n",
              "    </tr>\n",
              "    <tr>\n",
              "      <th>20</th>\n",
              "      <td>-0.785763</td>\n",
              "      <td>-0.263757</td>\n",
              "      <td>1.358058</td>\n",
              "      <td>-0.531910</td>\n",
              "    </tr>\n",
              "    <tr>\n",
              "      <th>21</th>\n",
              "      <td>1.000062</td>\n",
              "      <td>1.021090</td>\n",
              "      <td>0.590399</td>\n",
              "      <td>1.495646</td>\n",
              "    </tr>\n",
              "    <tr>\n",
              "      <th>22</th>\n",
              "      <td>-1.180036</td>\n",
              "      <td>-1.197090</td>\n",
              "      <td>0.032102</td>\n",
              "      <td>-0.682898</td>\n",
              "    </tr>\n",
              "    <tr>\n",
              "      <th>23</th>\n",
              "      <td>1.927762</td>\n",
              "      <td>1.069575</td>\n",
              "      <td>-1.503215</td>\n",
              "      <td>-0.445631</td>\n",
              "    </tr>\n",
              "    <tr>\n",
              "      <th>24</th>\n",
              "      <td>0.281093</td>\n",
              "      <td>0.087757</td>\n",
              "      <td>0.311251</td>\n",
              "      <td>0.751490</td>\n",
              "    </tr>\n",
              "    <tr>\n",
              "      <th>25</th>\n",
              "      <td>-0.414682</td>\n",
              "      <td>-0.748605</td>\n",
              "      <td>-0.875131</td>\n",
              "      <td>-0.521125</td>\n",
              "    </tr>\n",
              "    <tr>\n",
              "      <th>26</th>\n",
              "      <td>-0.808955</td>\n",
              "      <td>-0.833454</td>\n",
              "      <td>-0.247047</td>\n",
              "      <td>-0.510340</td>\n",
              "    </tr>\n",
              "    <tr>\n",
              "      <th>27</th>\n",
              "      <td>1.023254</td>\n",
              "      <td>0.984726</td>\n",
              "      <td>1.078909</td>\n",
              "      <td>2.671197</td>\n",
              "    </tr>\n",
              "    <tr>\n",
              "      <th>28</th>\n",
              "      <td>-1.319191</td>\n",
              "      <td>-1.378908</td>\n",
              "      <td>-0.665769</td>\n",
              "      <td>-1.265281</td>\n",
              "    </tr>\n",
              "    <tr>\n",
              "      <th>29</th>\n",
              "      <td>-0.089987</td>\n",
              "      <td>-0.142545</td>\n",
              "      <td>1.637207</td>\n",
              "      <td>-0.262288</td>\n",
              "    </tr>\n",
              "    <tr>\n",
              "      <th>30</th>\n",
              "      <td>0.837714</td>\n",
              "      <td>1.384726</td>\n",
              "      <td>0.311251</td>\n",
              "      <td>1.172100</td>\n",
              "    </tr>\n",
              "    <tr>\n",
              "      <th>31</th>\n",
              "      <td>0.768136</td>\n",
              "      <td>1.008969</td>\n",
              "      <td>1.427845</td>\n",
              "      <td>0.525008</td>\n",
              "    </tr>\n",
              "    <tr>\n",
              "      <th>32</th>\n",
              "      <td>1.208794</td>\n",
              "      <td>2.015028</td>\n",
              "      <td>-1.433428</td>\n",
              "      <td>-0.553480</td>\n",
              "    </tr>\n",
              "    <tr>\n",
              "      <th>33</th>\n",
              "      <td>-1.620693</td>\n",
              "      <td>-1.524362</td>\n",
              "      <td>-1.503215</td>\n",
              "      <td>-1.502548</td>\n",
              "    </tr>\n",
              "    <tr>\n",
              "      <th>34</th>\n",
              "      <td>-0.113180</td>\n",
              "      <td>-0.615272</td>\n",
              "      <td>0.660186</td>\n",
              "      <td>0.018119</td>\n",
              "    </tr>\n",
              "    <tr>\n",
              "      <th>35</th>\n",
              "      <td>-0.275527</td>\n",
              "      <td>-0.239515</td>\n",
              "      <td>0.171676</td>\n",
              "      <td>-0.132870</td>\n",
              "    </tr>\n",
              "    <tr>\n",
              "      <th>36</th>\n",
              "      <td>-0.669800</td>\n",
              "      <td>-0.142545</td>\n",
              "      <td>0.101889</td>\n",
              "      <td>0.870123</td>\n",
              "    </tr>\n",
              "    <tr>\n",
              "      <th>37</th>\n",
              "      <td>-0.345105</td>\n",
              "      <td>-0.784969</td>\n",
              "      <td>0.450825</td>\n",
              "      <td>-0.682898</td>\n",
              "    </tr>\n",
              "    <tr>\n",
              "      <th>38</th>\n",
              "      <td>-1.017688</td>\n",
              "      <td>0.039273</td>\n",
              "      <td>1.497632</td>\n",
              "      <td>-1.394700</td>\n",
              "    </tr>\n",
              "    <tr>\n",
              "      <th>39</th>\n",
              "      <td>1.533490</td>\n",
              "      <td>1.311999</td>\n",
              "      <td>-1.224067</td>\n",
              "      <td>0.136752</td>\n",
              "    </tr>\n",
              "    <tr>\n",
              "      <th>40</th>\n",
              "      <td>-0.924918</td>\n",
              "      <td>-1.027393</td>\n",
              "      <td>-1.433428</td>\n",
              "      <td>-0.909380</td>\n",
              "    </tr>\n",
              "    <tr>\n",
              "      <th>41</th>\n",
              "      <td>1.255179</td>\n",
              "      <td>0.208970</td>\n",
              "      <td>-0.456408</td>\n",
              "      <td>0.611287</td>\n",
              "    </tr>\n",
              "    <tr>\n",
              "      <th>42</th>\n",
              "      <td>1.139217</td>\n",
              "      <td>0.366545</td>\n",
              "      <td>1.009122</td>\n",
              "      <td>0.460298</td>\n",
              "    </tr>\n",
              "    <tr>\n",
              "      <th>43</th>\n",
              "      <td>-1.064073</td>\n",
              "      <td>-0.615272</td>\n",
              "      <td>1.009122</td>\n",
              "      <td>0.179892</td>\n",
              "    </tr>\n",
              "    <tr>\n",
              "      <th>44</th>\n",
              "      <td>-1.295998</td>\n",
              "      <td>-1.487999</td>\n",
              "      <td>-2.340661</td>\n",
              "      <td>-1.081938</td>\n",
              "    </tr>\n",
              "    <tr>\n",
              "      <th>45</th>\n",
              "      <td>0.165131</td>\n",
              "      <td>-0.178909</td>\n",
              "      <td>-0.177259</td>\n",
              "      <td>-0.057376</td>\n",
              "    </tr>\n",
              "    <tr>\n",
              "      <th>46</th>\n",
              "      <td>-0.878533</td>\n",
              "      <td>-0.312242</td>\n",
              "      <td>0.520612</td>\n",
              "      <td>0.535792</td>\n",
              "    </tr>\n",
              "    <tr>\n",
              "      <th>47</th>\n",
              "      <td>-0.484260</td>\n",
              "      <td>-1.087999</td>\n",
              "      <td>-1.852151</td>\n",
              "      <td>-1.286851</td>\n",
              "    </tr>\n",
              "    <tr>\n",
              "      <th>48</th>\n",
              "      <td>-1.203228</td>\n",
              "      <td>-1.427393</td>\n",
              "      <td>0.032102</td>\n",
              "      <td>-1.125078</td>\n",
              "    </tr>\n",
              "    <tr>\n",
              "      <th>49</th>\n",
              "      <td>-0.229142</td>\n",
              "      <td>-0.118303</td>\n",
              "      <td>-0.386621</td>\n",
              "      <td>-0.607404</td>\n",
              "    </tr>\n",
              "  </tbody>\n",
              "</table>\n",
              "</div>"
            ],
            "text/plain": [
              "           0         1         2         3\n",
              "0   1.255179  0.790787 -0.526195 -0.003451\n",
              "1   0.513019  1.118060 -1.224067  2.509424\n",
              "2   0.072361  1.493817  1.009122  1.053466\n",
              "3   0.234708  0.233212 -1.084492 -0.186794\n",
              "4   0.281093  1.275635  1.776781  2.088814\n",
              "5   0.025976  0.402909  0.869548  1.883901\n",
              "6  -1.040880 -0.736484  0.799761 -1.092723\n",
              "7  -0.437875  0.815030  0.450825 -0.585834\n",
              "8   1.765415  1.990786  1.009122  1.150530\n",
              "9   2.229265  0.487757 -0.386621  0.492653\n",
              "10 -0.577030 -1.512241  1.218484 -0.111300\n",
              "11 -1.203228 -0.615272 -0.805344 -0.758392\n",
              "12  0.605789  0.948363  1.218484  0.298525\n",
              "13 -0.136372 -0.700121 -0.037685 -0.025021\n",
              "14 -1.295998 -1.391029 -0.595982 -1.071153\n",
              "15 -0.414682 -0.675878  0.032102 -0.348567\n",
              "16  0.443441 -0.748605 -0.944918 -0.531910\n",
              "17  1.765415  0.948363  0.032102  0.104398\n",
              "18 -1.319191 -1.063757 -1.014705 -1.448624\n",
              "19  0.814521  1.566544  0.101889  0.708350\n",
              "20 -0.785763 -0.263757  1.358058 -0.531910\n",
              "21  1.000062  1.021090  0.590399  1.495646\n",
              "22 -1.180036 -1.197090  0.032102 -0.682898\n",
              "23  1.927762  1.069575 -1.503215 -0.445631\n",
              "24  0.281093  0.087757  0.311251  0.751490\n",
              "25 -0.414682 -0.748605 -0.875131 -0.521125\n",
              "26 -0.808955 -0.833454 -0.247047 -0.510340\n",
              "27  1.023254  0.984726  1.078909  2.671197\n",
              "28 -1.319191 -1.378908 -0.665769 -1.265281\n",
              "29 -0.089987 -0.142545  1.637207 -0.262288\n",
              "30  0.837714  1.384726  0.311251  1.172100\n",
              "31  0.768136  1.008969  1.427845  0.525008\n",
              "32  1.208794  2.015028 -1.433428 -0.553480\n",
              "33 -1.620693 -1.524362 -1.503215 -1.502548\n",
              "34 -0.113180 -0.615272  0.660186  0.018119\n",
              "35 -0.275527 -0.239515  0.171676 -0.132870\n",
              "36 -0.669800 -0.142545  0.101889  0.870123\n",
              "37 -0.345105 -0.784969  0.450825 -0.682898\n",
              "38 -1.017688  0.039273  1.497632 -1.394700\n",
              "39  1.533490  1.311999 -1.224067  0.136752\n",
              "40 -0.924918 -1.027393 -1.433428 -0.909380\n",
              "41  1.255179  0.208970 -0.456408  0.611287\n",
              "42  1.139217  0.366545  1.009122  0.460298\n",
              "43 -1.064073 -0.615272  1.009122  0.179892\n",
              "44 -1.295998 -1.487999 -2.340661 -1.081938\n",
              "45  0.165131 -0.178909 -0.177259 -0.057376\n",
              "46 -0.878533 -0.312242  0.520612  0.535792\n",
              "47 -0.484260 -1.087999 -1.852151 -1.286851\n",
              "48 -1.203228 -1.427393  0.032102 -1.125078\n",
              "49 -0.229142 -0.118303 -0.386621 -0.607404"
            ]
          },
          "execution_count": 64,
          "metadata": {},
          "output_type": "execute_result"
        }
      ],
      "source": [
        "# Normalize heterogenous numerical data using standard scalar fit transform to dataset\n",
        "from sklearn.preprocessing import StandardScaler\n",
        "crime_norm=pd.DataFrame(StandardScaler().fit_transform(dataset1))\n",
        "crime_norm"
      ]
    },
    {
      "cell_type": "code",
      "execution_count": null,
      "id": "06fe90a5",
      "metadata": {
        "id": "06fe90a5",
        "outputId": "959ae884-66ef-4509-9c39-4c086e289179"
      },
      "outputs": [
        {
          "data": {
            "text/plain": [
              "DBSCAN(eps=1, min_samples=4)"
            ]
          },
          "execution_count": 65,
          "metadata": {},
          "output_type": "execute_result"
        }
      ],
      "source": [
        "from sklearn.cluster import DBSCAN\n",
        "dbscan=DBSCAN(eps=1,min_samples=4)\n",
        "dbscan.fit(crime_norm)"
      ]
    },
    {
      "cell_type": "code",
      "execution_count": null,
      "id": "31a68eaa",
      "metadata": {
        "id": "31a68eaa",
        "outputId": "6274dccb-ffd5-4002-c798-3470f43bc1bc"
      },
      "outputs": [
        {
          "data": {
            "text/plain": [
              "array([ 0, -1, -1, -1, -1, -1,  1, -1, -1, -1, -1,  1, -1,  1,  1,  1,  1,\n",
              "        0,  1, -1,  1, -1,  1, -1,  1,  1,  1, -1,  1,  1, -1, -1, -1,  1,\n",
              "        1,  1,  1,  1,  1,  0,  1,  0, -1,  1,  1,  1,  1,  1,  1,  1],\n",
              "      dtype=int64)"
            ]
          },
          "execution_count": 66,
          "metadata": {},
          "output_type": "execute_result"
        }
      ],
      "source": [
        "dbscan.labels_"
      ]
    },
    {
      "cell_type": "code",
      "execution_count": null,
      "id": "c5fedfd8",
      "metadata": {
        "id": "c5fedfd8",
        "outputId": "8ceea52b-4673-488f-9866-fe39a4990b88"
      },
      "outputs": [
        {
          "data": {
            "image/png": "[encoded data removed]",
            "text/plain": [
              "<Figure size 720x432 with 1 Axes>"
            ]
          },
          "metadata": {
            "needs_background": "light"
          },
          "output_type": "display_data"
        }
      ],
      "source": [
        "#df['DBSCAN_labels']=dbscan.labels_\n",
        "import matplotlib\n",
        "import matplotlib.pyplot as plt\n",
        "\n",
        "\n",
        "# Plotting resulting clusters\n",
        "plt.figure(figsize=(10,6))\n",
        "plt.scatter(crime_norm[0],crime_norm[2],c=dbscan.labels_ )\n",
        "plt.title('DBSCAN Clustering',fontsize=20)\n",
        "plt.xlabel('Urban Population',fontsize=14)\n",
        "plt.ylabel('Murder',fontsize=14)\n",
        "plt.show()"
      ]
    },
    {
      "cell_type": "code",
      "execution_count": null,
      "id": "e29ba227",
      "metadata": {
        "id": "e29ba227",
        "outputId": "5d6d8075-9933-4623-e8e2-0a24ef426e0f"
      },
      "outputs": [
        {
          "data": {
            "image/png": "[encoded data removed]",
            "text/plain": [
              "<Figure size 720x432 with 1 Axes>"
            ]
          },
          "metadata": {
            "needs_background": "light"
          },
          "output_type": "display_data"
        }
      ],
      "source": [
        "plt.figure(figsize=(10,6))\n",
        "plt.scatter(crime_norm[1],crime_norm[2],c=dbscan.labels_ )\n",
        "plt.title('DBSCAN Clustering',fontsize=20)\n",
        "plt.xlabel('Urban Population',fontsize=14)\n",
        "plt.ylabel('Assault',fontsize=14)\n",
        "plt.show()"
      ]
    },
    {
      "cell_type": "code",
      "execution_count": null,
      "id": "40c0f1b8",
      "metadata": {
        "id": "40c0f1b8",
        "outputId": "2f841820-1bed-49e7-ba71-705a3966d340"
      },
      "outputs": [
        {
          "data": {
            "image/png": "[encoded data removed]",
            "text/plain": [
              "<Figure size 720x432 with 1 Axes>"
            ]
          },
          "metadata": {
            "needs_background": "light"
          },
          "output_type": "display_data"
        }
      ],
      "source": [
        "plt.figure(figsize=(10,6))\n",
        "plt.scatter(crime_norm[3],crime_norm[2],c=dbscan.labels_ )\n",
        "plt.title('DBSCAN Clustering',fontsize=20)\n",
        "plt.xlabel('Urban Population',fontsize=14)\n",
        "plt.ylabel('Rape',fontsize=14)\n",
        "plt.show()"
      ]
    },
    {
      "cell_type": "code",
      "execution_count": null,
      "id": "9443072b",
      "metadata": {
        "id": "9443072b",
        "outputId": "18692edb-9423-445f-b780-8e849f6ee636"
      },
      "outputs": [
        {
          "data": {
            "text/html": [
              "<div>\n",
              "<style scoped>\n",
              "    .dataframe tbody tr th:only-of-type {\n",
              "        vertical-align: middle;\n",
              "    }\n",
              "\n",
              "    .dataframe tbody tr th {\n",
              "        vertical-align: top;\n",
              "    }\n",
              "\n",
              "    .dataframe thead th {\n",
              "        text-align: right;\n",
              "    }\n",
              "</style>\n",
              "<table border=\"1\" class=\"dataframe\">\n",
              "  <thead>\n",
              "    <tr style=\"text-align: right;\">\n",
              "      <th></th>\n",
              "      <th>Murder</th>\n",
              "      <th>Assault</th>\n",
              "      <th>UrbanPop</th>\n",
              "      <th>Rape</th>\n",
              "      <th>clusters</th>\n",
              "    </tr>\n",
              "  </thead>\n",
              "  <tbody>\n",
              "    <tr>\n",
              "      <th>0</th>\n",
              "      <td>13.2</td>\n",
              "      <td>236</td>\n",
              "      <td>58</td>\n",
              "      <td>21.2</td>\n",
              "      <td>0</td>\n",
              "    </tr>\n",
              "    <tr>\n",
              "      <th>1</th>\n",
              "      <td>10.0</td>\n",
              "      <td>263</td>\n",
              "      <td>48</td>\n",
              "      <td>44.5</td>\n",
              "      <td>-1</td>\n",
              "    </tr>\n",
              "    <tr>\n",
              "      <th>2</th>\n",
              "      <td>8.1</td>\n",
              "      <td>294</td>\n",
              "      <td>80</td>\n",
              "      <td>31.0</td>\n",
              "      <td>-1</td>\n",
              "    </tr>\n",
              "    <tr>\n",
              "      <th>3</th>\n",
              "      <td>8.8</td>\n",
              "      <td>190</td>\n",
              "      <td>50</td>\n",
              "      <td>19.5</td>\n",
              "      <td>-1</td>\n",
              "    </tr>\n",
              "    <tr>\n",
              "      <th>4</th>\n",
              "      <td>9.0</td>\n",
              "      <td>276</td>\n",
              "      <td>91</td>\n",
              "      <td>40.6</td>\n",
              "      <td>-1</td>\n",
              "    </tr>\n",
              "    <tr>\n",
              "      <th>5</th>\n",
              "      <td>7.9</td>\n",
              "      <td>204</td>\n",
              "      <td>78</td>\n",
              "      <td>38.7</td>\n",
              "      <td>-1</td>\n",
              "    </tr>\n",
              "    <tr>\n",
              "      <th>6</th>\n",
              "      <td>3.3</td>\n",
              "      <td>110</td>\n",
              "      <td>77</td>\n",
              "      <td>11.1</td>\n",
              "      <td>1</td>\n",
              "    </tr>\n",
              "    <tr>\n",
              "      <th>7</th>\n",
              "      <td>5.9</td>\n",
              "      <td>238</td>\n",
              "      <td>72</td>\n",
              "      <td>15.8</td>\n",
              "      <td>-1</td>\n",
              "    </tr>\n",
              "    <tr>\n",
              "      <th>8</th>\n",
              "      <td>15.4</td>\n",
              "      <td>335</td>\n",
              "      <td>80</td>\n",
              "      <td>31.9</td>\n",
              "      <td>-1</td>\n",
              "    </tr>\n",
              "    <tr>\n",
              "      <th>9</th>\n",
              "      <td>17.4</td>\n",
              "      <td>211</td>\n",
              "      <td>60</td>\n",
              "      <td>25.8</td>\n",
              "      <td>-1</td>\n",
              "    </tr>\n",
              "    <tr>\n",
              "      <th>10</th>\n",
              "      <td>5.3</td>\n",
              "      <td>46</td>\n",
              "      <td>83</td>\n",
              "      <td>20.2</td>\n",
              "      <td>-1</td>\n",
              "    </tr>\n",
              "    <tr>\n",
              "      <th>11</th>\n",
              "      <td>2.6</td>\n",
              "      <td>120</td>\n",
              "      <td>54</td>\n",
              "      <td>14.2</td>\n",
              "      <td>1</td>\n",
              "    </tr>\n",
              "    <tr>\n",
              "      <th>12</th>\n",
              "      <td>10.4</td>\n",
              "      <td>249</td>\n",
              "      <td>83</td>\n",
              "      <td>24.0</td>\n",
              "      <td>-1</td>\n",
              "    </tr>\n",
              "    <tr>\n",
              "      <th>13</th>\n",
              "      <td>7.2</td>\n",
              "      <td>113</td>\n",
              "      <td>65</td>\n",
              "      <td>21.0</td>\n",
              "      <td>1</td>\n",
              "    </tr>\n",
              "    <tr>\n",
              "      <th>14</th>\n",
              "      <td>2.2</td>\n",
              "      <td>56</td>\n",
              "      <td>57</td>\n",
              "      <td>11.3</td>\n",
              "      <td>1</td>\n",
              "    </tr>\n",
              "    <tr>\n",
              "      <th>15</th>\n",
              "      <td>6.0</td>\n",
              "      <td>115</td>\n",
              "      <td>66</td>\n",
              "      <td>18.0</td>\n",
              "      <td>1</td>\n",
              "    </tr>\n",
              "    <tr>\n",
              "      <th>16</th>\n",
              "      <td>9.7</td>\n",
              "      <td>109</td>\n",
              "      <td>52</td>\n",
              "      <td>16.3</td>\n",
              "      <td>1</td>\n",
              "    </tr>\n",
              "    <tr>\n",
              "      <th>17</th>\n",
              "      <td>15.4</td>\n",
              "      <td>249</td>\n",
              "      <td>66</td>\n",
              "      <td>22.2</td>\n",
              "      <td>0</td>\n",
              "    </tr>\n",
              "    <tr>\n",
              "      <th>18</th>\n",
              "      <td>2.1</td>\n",
              "      <td>83</td>\n",
              "      <td>51</td>\n",
              "      <td>7.8</td>\n",
              "      <td>1</td>\n",
              "    </tr>\n",
              "    <tr>\n",
              "      <th>19</th>\n",
              "      <td>11.3</td>\n",
              "      <td>300</td>\n",
              "      <td>67</td>\n",
              "      <td>27.8</td>\n",
              "      <td>-1</td>\n",
              "    </tr>\n",
              "    <tr>\n",
              "      <th>20</th>\n",
              "      <td>4.4</td>\n",
              "      <td>149</td>\n",
              "      <td>85</td>\n",
              "      <td>16.3</td>\n",
              "      <td>1</td>\n",
              "    </tr>\n",
              "    <tr>\n",
              "      <th>21</th>\n",
              "      <td>12.1</td>\n",
              "      <td>255</td>\n",
              "      <td>74</td>\n",
              "      <td>35.1</td>\n",
              "      <td>-1</td>\n",
              "    </tr>\n",
              "    <tr>\n",
              "      <th>22</th>\n",
              "      <td>2.7</td>\n",
              "      <td>72</td>\n",
              "      <td>66</td>\n",
              "      <td>14.9</td>\n",
              "      <td>1</td>\n",
              "    </tr>\n",
              "    <tr>\n",
              "      <th>23</th>\n",
              "      <td>16.1</td>\n",
              "      <td>259</td>\n",
              "      <td>44</td>\n",
              "      <td>17.1</td>\n",
              "      <td>-1</td>\n",
              "    </tr>\n",
              "    <tr>\n",
              "      <th>24</th>\n",
              "      <td>9.0</td>\n",
              "      <td>178</td>\n",
              "      <td>70</td>\n",
              "      <td>28.2</td>\n",
              "      <td>1</td>\n",
              "    </tr>\n",
              "    <tr>\n",
              "      <th>25</th>\n",
              "      <td>6.0</td>\n",
              "      <td>109</td>\n",
              "      <td>53</td>\n",
              "      <td>16.4</td>\n",
              "      <td>1</td>\n",
              "    </tr>\n",
              "    <tr>\n",
              "      <th>26</th>\n",
              "      <td>4.3</td>\n",
              "      <td>102</td>\n",
              "      <td>62</td>\n",
              "      <td>16.5</td>\n",
              "      <td>1</td>\n",
              "    </tr>\n",
              "    <tr>\n",
              "      <th>27</th>\n",
              "      <td>12.2</td>\n",
              "      <td>252</td>\n",
              "      <td>81</td>\n",
              "      <td>46.0</td>\n",
              "      <td>-1</td>\n",
              "    </tr>\n",
              "    <tr>\n",
              "      <th>28</th>\n",
              "      <td>2.1</td>\n",
              "      <td>57</td>\n",
              "      <td>56</td>\n",
              "      <td>9.5</td>\n",
              "      <td>1</td>\n",
              "    </tr>\n",
              "    <tr>\n",
              "      <th>29</th>\n",
              "      <td>7.4</td>\n",
              "      <td>159</td>\n",
              "      <td>89</td>\n",
              "      <td>18.8</td>\n",
              "      <td>1</td>\n",
              "    </tr>\n",
              "    <tr>\n",
              "      <th>30</th>\n",
              "      <td>11.4</td>\n",
              "      <td>285</td>\n",
              "      <td>70</td>\n",
              "      <td>32.1</td>\n",
              "      <td>-1</td>\n",
              "    </tr>\n",
              "    <tr>\n",
              "      <th>31</th>\n",
              "      <td>11.1</td>\n",
              "      <td>254</td>\n",
              "      <td>86</td>\n",
              "      <td>26.1</td>\n",
              "      <td>-1</td>\n",
              "    </tr>\n",
              "    <tr>\n",
              "      <th>32</th>\n",
              "      <td>13.0</td>\n",
              "      <td>337</td>\n",
              "      <td>45</td>\n",
              "      <td>16.1</td>\n",
              "      <td>-1</td>\n",
              "    </tr>\n",
              "    <tr>\n",
              "      <th>33</th>\n",
              "      <td>0.8</td>\n",
              "      <td>45</td>\n",
              "      <td>44</td>\n",
              "      <td>7.3</td>\n",
              "      <td>1</td>\n",
              "    </tr>\n",
              "    <tr>\n",
              "      <th>34</th>\n",
              "      <td>7.3</td>\n",
              "      <td>120</td>\n",
              "      <td>75</td>\n",
              "      <td>21.4</td>\n",
              "      <td>1</td>\n",
              "    </tr>\n",
              "    <tr>\n",
              "      <th>35</th>\n",
              "      <td>6.6</td>\n",
              "      <td>151</td>\n",
              "      <td>68</td>\n",
              "      <td>20.0</td>\n",
              "      <td>1</td>\n",
              "    </tr>\n",
              "    <tr>\n",
              "      <th>36</th>\n",
              "      <td>4.9</td>\n",
              "      <td>159</td>\n",
              "      <td>67</td>\n",
              "      <td>29.3</td>\n",
              "      <td>1</td>\n",
              "    </tr>\n",
              "    <tr>\n",
              "      <th>37</th>\n",
              "      <td>6.3</td>\n",
              "      <td>106</td>\n",
              "      <td>72</td>\n",
              "      <td>14.9</td>\n",
              "      <td>1</td>\n",
              "    </tr>\n",
              "    <tr>\n",
              "      <th>38</th>\n",
              "      <td>3.4</td>\n",
              "      <td>174</td>\n",
              "      <td>87</td>\n",
              "      <td>8.3</td>\n",
              "      <td>1</td>\n",
              "    </tr>\n",
              "    <tr>\n",
              "      <th>39</th>\n",
              "      <td>14.4</td>\n",
              "      <td>279</td>\n",
              "      <td>48</td>\n",
              "      <td>22.5</td>\n",
              "      <td>0</td>\n",
              "    </tr>\n",
              "    <tr>\n",
              "      <th>40</th>\n",
              "      <td>3.8</td>\n",
              "      <td>86</td>\n",
              "      <td>45</td>\n",
              "      <td>12.8</td>\n",
              "      <td>1</td>\n",
              "    </tr>\n",
              "    <tr>\n",
              "      <th>41</th>\n",
              "      <td>13.2</td>\n",
              "      <td>188</td>\n",
              "      <td>59</td>\n",
              "      <td>26.9</td>\n",
              "      <td>0</td>\n",
              "    </tr>\n",
              "    <tr>\n",
              "      <th>42</th>\n",
              "      <td>12.7</td>\n",
              "      <td>201</td>\n",
              "      <td>80</td>\n",
              "      <td>25.5</td>\n",
              "      <td>-1</td>\n",
              "    </tr>\n",
              "    <tr>\n",
              "      <th>43</th>\n",
              "      <td>3.2</td>\n",
              "      <td>120</td>\n",
              "      <td>80</td>\n",
              "      <td>22.9</td>\n",
              "      <td>1</td>\n",
              "    </tr>\n",
              "    <tr>\n",
              "      <th>44</th>\n",
              "      <td>2.2</td>\n",
              "      <td>48</td>\n",
              "      <td>32</td>\n",
              "      <td>11.2</td>\n",
              "      <td>1</td>\n",
              "    </tr>\n",
              "    <tr>\n",
              "      <th>45</th>\n",
              "      <td>8.5</td>\n",
              "      <td>156</td>\n",
              "      <td>63</td>\n",
              "      <td>20.7</td>\n",
              "      <td>1</td>\n",
              "    </tr>\n",
              "    <tr>\n",
              "      <th>46</th>\n",
              "      <td>4.0</td>\n",
              "      <td>145</td>\n",
              "      <td>73</td>\n",
              "      <td>26.2</td>\n",
              "      <td>1</td>\n",
              "    </tr>\n",
              "    <tr>\n",
              "      <th>47</th>\n",
              "      <td>5.7</td>\n",
              "      <td>81</td>\n",
              "      <td>39</td>\n",
              "      <td>9.3</td>\n",
              "      <td>1</td>\n",
              "    </tr>\n",
              "    <tr>\n",
              "      <th>48</th>\n",
              "      <td>2.6</td>\n",
              "      <td>53</td>\n",
              "      <td>66</td>\n",
              "      <td>10.8</td>\n",
              "      <td>1</td>\n",
              "    </tr>\n",
              "    <tr>\n",
              "      <th>49</th>\n",
              "      <td>6.8</td>\n",
              "      <td>161</td>\n",
              "      <td>60</td>\n",
              "      <td>15.6</td>\n",
              "      <td>1</td>\n",
              "    </tr>\n",
              "  </tbody>\n",
              "</table>\n",
              "</div>"
            ],
            "text/plain": [
              "    Murder  Assault  UrbanPop  Rape  clusters\n",
              "0     13.2      236        58  21.2         0\n",
              "1     10.0      263        48  44.5        -1\n",
              "2      8.1      294        80  31.0        -1\n",
              "3      8.8      190        50  19.5        -1\n",
              "4      9.0      276        91  40.6        -1\n",
              "5      7.9      204        78  38.7        -1\n",
              "6      3.3      110        77  11.1         1\n",
              "7      5.9      238        72  15.8        -1\n",
              "8     15.4      335        80  31.9        -1\n",
              "9     17.4      211        60  25.8        -1\n",
              "10     5.3       46        83  20.2        -1\n",
              "11     2.6      120        54  14.2         1\n",
              "12    10.4      249        83  24.0        -1\n",
              "13     7.2      113        65  21.0         1\n",
              "14     2.2       56        57  11.3         1\n",
              "15     6.0      115        66  18.0         1\n",
              "16     9.7      109        52  16.3         1\n",
              "17    15.4      249        66  22.2         0\n",
              "18     2.1       83        51   7.8         1\n",
              "19    11.3      300        67  27.8        -1\n",
              "20     4.4      149        85  16.3         1\n",
              "21    12.1      255        74  35.1        -1\n",
              "22     2.7       72        66  14.9         1\n",
              "23    16.1      259        44  17.1        -1\n",
              "24     9.0      178        70  28.2         1\n",
              "25     6.0      109        53  16.4         1\n",
              "26     4.3      102        62  16.5         1\n",
              "27    12.2      252        81  46.0        -1\n",
              "28     2.1       57        56   9.5         1\n",
              "29     7.4      159        89  18.8         1\n",
              "30    11.4      285        70  32.1        -1\n",
              "31    11.1      254        86  26.1        -1\n",
              "32    13.0      337        45  16.1        -1\n",
              "33     0.8       45        44   7.3         1\n",
              "34     7.3      120        75  21.4         1\n",
              "35     6.6      151        68  20.0         1\n",
              "36     4.9      159        67  29.3         1\n",
              "37     6.3      106        72  14.9         1\n",
              "38     3.4      174        87   8.3         1\n",
              "39    14.4      279        48  22.5         0\n",
              "40     3.8       86        45  12.8         1\n",
              "41    13.2      188        59  26.9         0\n",
              "42    12.7      201        80  25.5        -1\n",
              "43     3.2      120        80  22.9         1\n",
              "44     2.2       48        32  11.2         1\n",
              "45     8.5      156        63  20.7         1\n",
              "46     4.0      145        73  26.2         1\n",
              "47     5.7       81        39   9.3         1\n",
              "48     2.6       53        66  10.8         1\n",
              "49     6.8      161        60  15.6         1"
            ]
          },
          "execution_count": 74,
          "metadata": {},
          "output_type": "execute_result"
        }
      ],
      "source": [
        "# Adding clusters to dataset\n",
        "dataset1['clusters']=dbscan.labels_\n",
        "dataset1"
      ]
    },
    {
      "cell_type": "code",
      "execution_count": null,
      "id": "f2ccb7a0",
      "metadata": {
        "id": "f2ccb7a0",
        "outputId": "7dd6f86e-a4ed-4738-d2e2-af730dcf838e"
      },
      "outputs": [
        {
          "data": {
            "text/html": [
              "<div>\n",
              "<style scoped>\n",
              "    .dataframe tbody tr th:only-of-type {\n",
              "        vertical-align: middle;\n",
              "    }\n",
              "\n",
              "    .dataframe tbody tr th {\n",
              "        vertical-align: top;\n",
              "    }\n",
              "\n",
              "    .dataframe thead th {\n",
              "        text-align: right;\n",
              "    }\n",
              "</style>\n",
              "<table border=\"1\" class=\"dataframe\">\n",
              "  <thead>\n",
              "    <tr style=\"text-align: right;\">\n",
              "      <th></th>\n",
              "      <th>0</th>\n",
              "      <th>1</th>\n",
              "      <th>2</th>\n",
              "      <th>3</th>\n",
              "      <th>clusters</th>\n",
              "    </tr>\n",
              "  </thead>\n",
              "  <tbody>\n",
              "    <tr>\n",
              "      <th>0</th>\n",
              "      <td>1.255179</td>\n",
              "      <td>0.790787</td>\n",
              "      <td>-0.526195</td>\n",
              "      <td>-0.003451</td>\n",
              "      <td>0</td>\n",
              "    </tr>\n",
              "    <tr>\n",
              "      <th>1</th>\n",
              "      <td>0.513019</td>\n",
              "      <td>1.118060</td>\n",
              "      <td>-1.224067</td>\n",
              "      <td>2.509424</td>\n",
              "      <td>-1</td>\n",
              "    </tr>\n",
              "    <tr>\n",
              "      <th>2</th>\n",
              "      <td>0.072361</td>\n",
              "      <td>1.493817</td>\n",
              "      <td>1.009122</td>\n",
              "      <td>1.053466</td>\n",
              "      <td>-1</td>\n",
              "    </tr>\n",
              "    <tr>\n",
              "      <th>3</th>\n",
              "      <td>0.234708</td>\n",
              "      <td>0.233212</td>\n",
              "      <td>-1.084492</td>\n",
              "      <td>-0.186794</td>\n",
              "      <td>-1</td>\n",
              "    </tr>\n",
              "    <tr>\n",
              "      <th>4</th>\n",
              "      <td>0.281093</td>\n",
              "      <td>1.275635</td>\n",
              "      <td>1.776781</td>\n",
              "      <td>2.088814</td>\n",
              "      <td>-1</td>\n",
              "    </tr>\n",
              "  </tbody>\n",
              "</table>\n",
              "</div>"
            ],
            "text/plain": [
              "          0         1         2         3  clusters\n",
              "0  1.255179  0.790787 -0.526195 -0.003451         0\n",
              "1  0.513019  1.118060 -1.224067  2.509424        -1\n",
              "2  0.072361  1.493817  1.009122  1.053466        -1\n",
              "3  0.234708  0.233212 -1.084492 -0.186794        -1\n",
              "4  0.281093  1.275635  1.776781  2.088814        -1"
            ]
          },
          "execution_count": 93,
          "metadata": {},
          "output_type": "execute_result"
        }
      ],
      "source": [
        "# Adding clusters to dataset\n",
        "crime_norm['clusters']=dbscan.labels_\n",
        "crime_norm.head()"
      ]
    },
    {
      "cell_type": "code",
      "execution_count": null,
      "id": "60a95f39",
      "metadata": {
        "id": "60a95f39",
        "outputId": "29e1009b-5ea0-4f27-df38-6ec76d41112f"
      },
      "outputs": [
        {
          "data": {
            "image/png": "[encoded data removed]",
            "text/plain": [
              "<Figure size 720x432 with 1 Axes>"
            ]
          },
          "metadata": {
            "needs_background": "light"
          },
          "output_type": "display_data"
        }
      ],
      "source": [
        "plt.figure(figsize=(10,6))\n",
        "plt.scatter(crime_norm[2],crime_norm['clusters'],c=dbscan.labels_ )\n",
        "plt.title('DBSCAN Clustering',fontsize=20)\n",
        "plt.xlabel('Urban Population',fontsize=14)\n",
        "plt.ylabel('Clusters',fontsize=14)\n",
        "plt.show()"
      ]
    },
    {
      "cell_type": "code",
      "execution_count": null,
      "id": "04f8f1de",
      "metadata": {
        "id": "04f8f1de"
      },
      "outputs": [],
      "source": []
    }
  ],
  "metadata": {
    "kernelspec": {
      "display_name": "Python 3 (ipykernel)",
      "language": "python",
      "name": "python3"
    },
    "language_info": {
      "codemirror_mode": {
        "name": "ipython",
        "version": 3
      },
      "file_extension": ".py",
      "mimetype": "text/x-python",
      "name": "python",
      "nbconvert_exporter": "python",
      "pygments_lexer": "ipython3",
      "version": "3.9.7"
    },
    "colab": {
      "provenance": []
    }
  },
  "nbformat": 4,
  "nbformat_minor": 5
}